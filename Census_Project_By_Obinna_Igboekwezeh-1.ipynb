{
 "cells": [
  {
   "cell_type": "markdown",
   "id": "b865e076",
   "metadata": {},
   "source": [
    "# The Census Project\n",
    "\n",
    "This project is based on a census data of a small town located between two mega cities. The requirement is to use the data to make recommendation on what should be built on an unoccupied plot of land.\n",
    "\n",
    "We would use this notebook to explore the data and provide visualizations to aid analysis, interpretations and recommendations.\n",
    "\n",
    "First, We are going to import the libraries needed and read in the csv census data"
   ]
  },
  {
   "cell_type": "code",
   "execution_count": 3,
   "id": "d1b9526c",
   "metadata": {},
   "outputs": [],
   "source": [
    "import pandas as pd\n",
    "import numpy as np\n",
    "import seaborn as sns\n",
    "import matplotlib.pyplot as plt\n",
    "%matplotlib inline\n",
    "#import pandas_profiling as pp\n",
    "#import sweetviz as sv\n",
    "import statistics as stat"
   ]
  },
  {
   "cell_type": "code",
   "execution_count": 4,
   "id": "ab03eb08",
   "metadata": {},
   "outputs": [],
   "source": [
    "census = pd.read_csv(\"census_01.csv\")"
   ]
  },
  {
   "cell_type": "markdown",
   "id": "65f0f845",
   "metadata": {},
   "source": [
    "# Overview of the Census Data\n",
    "An overview of the census data shows us the number of rows and columns contain in the file"
   ]
  },
  {
   "cell_type": "code",
   "execution_count": 5,
   "id": "6aa99fe4",
   "metadata": {},
   "outputs": [
    {
     "data": {
      "text/html": [
       "<div>\n",
       "<style scoped>\n",
       "    .dataframe tbody tr th:only-of-type {\n",
       "        vertical-align: middle;\n",
       "    }\n",
       "\n",
       "    .dataframe tbody tr th {\n",
       "        vertical-align: top;\n",
       "    }\n",
       "\n",
       "    .dataframe thead th {\n",
       "        text-align: right;\n",
       "    }\n",
       "</style>\n",
       "<table border=\"1\" class=\"dataframe\">\n",
       "  <thead>\n",
       "    <tr style=\"text-align: right;\">\n",
       "      <th></th>\n",
       "      <th>House Number</th>\n",
       "      <th>Street</th>\n",
       "      <th>First Name</th>\n",
       "      <th>Surname</th>\n",
       "      <th>Age</th>\n",
       "      <th>Relationship to Head of House</th>\n",
       "      <th>Marital Status</th>\n",
       "      <th>Gender</th>\n",
       "      <th>Occupation</th>\n",
       "      <th>Infirmity</th>\n",
       "      <th>Religion</th>\n",
       "    </tr>\n",
       "  </thead>\n",
       "  <tbody>\n",
       "    <tr>\n",
       "      <th>0</th>\n",
       "      <td>1</td>\n",
       "      <td>Renaissance Lane</td>\n",
       "      <td>Grace</td>\n",
       "      <td>Johnston</td>\n",
       "      <td>29</td>\n",
       "      <td>Head</td>\n",
       "      <td>Single</td>\n",
       "      <td>Female</td>\n",
       "      <td>Visual merchandiser</td>\n",
       "      <td>None</td>\n",
       "      <td>Methodist</td>\n",
       "    </tr>\n",
       "    <tr>\n",
       "      <th>1</th>\n",
       "      <td>1</td>\n",
       "      <td>Renaissance Lane</td>\n",
       "      <td>Brett</td>\n",
       "      <td>Sheppard</td>\n",
       "      <td>31</td>\n",
       "      <td>Partner</td>\n",
       "      <td>Single</td>\n",
       "      <td>Male</td>\n",
       "      <td>Biomedical engineer</td>\n",
       "      <td>None</td>\n",
       "      <td>Methodist</td>\n",
       "    </tr>\n",
       "    <tr>\n",
       "      <th>2</th>\n",
       "      <td>1</td>\n",
       "      <td>Renaissance Lane</td>\n",
       "      <td>Mark</td>\n",
       "      <td>Johnston</td>\n",
       "      <td>6</td>\n",
       "      <td>Son</td>\n",
       "      <td>NaN</td>\n",
       "      <td>Male</td>\n",
       "      <td>Student</td>\n",
       "      <td>None</td>\n",
       "      <td>NaN</td>\n",
       "    </tr>\n",
       "    <tr>\n",
       "      <th>3</th>\n",
       "      <td>1</td>\n",
       "      <td>Renaissance Lane</td>\n",
       "      <td>Teresa</td>\n",
       "      <td>Johnston</td>\n",
       "      <td>3</td>\n",
       "      <td>Daughter</td>\n",
       "      <td>NaN</td>\n",
       "      <td>Female</td>\n",
       "      <td>Child</td>\n",
       "      <td>None</td>\n",
       "      <td>NaN</td>\n",
       "    </tr>\n",
       "    <tr>\n",
       "      <th>4</th>\n",
       "      <td>2</td>\n",
       "      <td>Renaissance Lane</td>\n",
       "      <td>Helen</td>\n",
       "      <td>Smith</td>\n",
       "      <td>81</td>\n",
       "      <td>Head</td>\n",
       "      <td>Married</td>\n",
       "      <td>Female</td>\n",
       "      <td>Retired Primary school teacher</td>\n",
       "      <td>None</td>\n",
       "      <td>Christian</td>\n",
       "    </tr>\n",
       "    <tr>\n",
       "      <th>...</th>\n",
       "      <td>...</td>\n",
       "      <td>...</td>\n",
       "      <td>...</td>\n",
       "      <td>...</td>\n",
       "      <td>...</td>\n",
       "      <td>...</td>\n",
       "      <td>...</td>\n",
       "      <td>...</td>\n",
       "      <td>...</td>\n",
       "      <td>...</td>\n",
       "      <td>...</td>\n",
       "    </tr>\n",
       "    <tr>\n",
       "      <th>11113</th>\n",
       "      <td>1</td>\n",
       "      <td>Racoon Hall</td>\n",
       "      <td>Tracey</td>\n",
       "      <td>Gregory</td>\n",
       "      <td>12</td>\n",
       "      <td>Granddaughter</td>\n",
       "      <td>NaN</td>\n",
       "      <td>Female</td>\n",
       "      <td>Student</td>\n",
       "      <td>None</td>\n",
       "      <td>NaN</td>\n",
       "    </tr>\n",
       "    <tr>\n",
       "      <th>11114</th>\n",
       "      <td>1</td>\n",
       "      <td>Racoon Hall</td>\n",
       "      <td>Nigel</td>\n",
       "      <td>Macdonald</td>\n",
       "      <td>8</td>\n",
       "      <td>Grandson</td>\n",
       "      <td>NaN</td>\n",
       "      <td>Male</td>\n",
       "      <td>Student</td>\n",
       "      <td>None</td>\n",
       "      <td>NaN</td>\n",
       "    </tr>\n",
       "    <tr>\n",
       "      <th>11115</th>\n",
       "      <td>1</td>\n",
       "      <td>Racoon Hall</td>\n",
       "      <td>Natalie</td>\n",
       "      <td>Francis</td>\n",
       "      <td>1</td>\n",
       "      <td>Granddaughter</td>\n",
       "      <td>NaN</td>\n",
       "      <td>Female</td>\n",
       "      <td>Child</td>\n",
       "      <td>None</td>\n",
       "      <td>NaN</td>\n",
       "    </tr>\n",
       "    <tr>\n",
       "      <th>11116</th>\n",
       "      <td>1</td>\n",
       "      <td>Racoon Hall</td>\n",
       "      <td>Roger</td>\n",
       "      <td>Leach</td>\n",
       "      <td>54</td>\n",
       "      <td>Lodger</td>\n",
       "      <td>Single</td>\n",
       "      <td>Male</td>\n",
       "      <td>Commercial horticulturist</td>\n",
       "      <td>None</td>\n",
       "      <td>Methodist</td>\n",
       "    </tr>\n",
       "    <tr>\n",
       "      <th>11117</th>\n",
       "      <td>1</td>\n",
       "      <td>Racoon Hall</td>\n",
       "      <td>Sally</td>\n",
       "      <td>Fletcher</td>\n",
       "      <td>56</td>\n",
       "      <td>Lodger</td>\n",
       "      <td>Single</td>\n",
       "      <td>Female</td>\n",
       "      <td>Public relations account executive</td>\n",
       "      <td>None</td>\n",
       "      <td>Christian</td>\n",
       "    </tr>\n",
       "  </tbody>\n",
       "</table>\n",
       "<p>11118 rows × 11 columns</p>\n",
       "</div>"
      ],
      "text/plain": [
       "      House Number            Street First Name    Surname Age  \\\n",
       "0                1  Renaissance Lane      Grace   Johnston  29   \n",
       "1                1  Renaissance Lane      Brett   Sheppard  31   \n",
       "2                1  Renaissance Lane       Mark   Johnston   6   \n",
       "3                1  Renaissance Lane     Teresa   Johnston   3   \n",
       "4                2  Renaissance Lane      Helen      Smith  81   \n",
       "...            ...               ...        ...        ...  ..   \n",
       "11113            1       Racoon Hall     Tracey    Gregory  12   \n",
       "11114            1       Racoon Hall      Nigel  Macdonald   8   \n",
       "11115            1       Racoon Hall    Natalie    Francis   1   \n",
       "11116            1       Racoon Hall      Roger      Leach  54   \n",
       "11117            1       Racoon Hall      Sally   Fletcher  56   \n",
       "\n",
       "      Relationship to Head of House Marital Status  Gender  \\\n",
       "0                              Head         Single  Female   \n",
       "1                           Partner         Single    Male   \n",
       "2                               Son            NaN    Male   \n",
       "3                          Daughter            NaN  Female   \n",
       "4                              Head        Married  Female   \n",
       "...                             ...            ...     ...   \n",
       "11113                 Granddaughter            NaN  Female   \n",
       "11114                      Grandson            NaN    Male   \n",
       "11115                 Granddaughter            NaN  Female   \n",
       "11116                        Lodger         Single    Male   \n",
       "11117                        Lodger         Single  Female   \n",
       "\n",
       "                               Occupation Infirmity   Religion  \n",
       "0                     Visual merchandiser      None  Methodist  \n",
       "1                     Biomedical engineer      None  Methodist  \n",
       "2                                 Student      None        NaN  \n",
       "3                                   Child      None        NaN  \n",
       "4          Retired Primary school teacher      None  Christian  \n",
       "...                                   ...       ...        ...  \n",
       "11113                             Student      None        NaN  \n",
       "11114                             Student      None        NaN  \n",
       "11115                               Child      None        NaN  \n",
       "11116           Commercial horticulturist      None  Methodist  \n",
       "11117  Public relations account executive      None  Christian  \n",
       "\n",
       "[11118 rows x 11 columns]"
      ]
     },
     "execution_count": 5,
     "metadata": {},
     "output_type": "execute_result"
    }
   ],
   "source": [
    "census"
   ]
  },
  {
   "cell_type": "markdown",
   "id": "85503802",
   "metadata": {},
   "source": [
    "# Data Cleaning\n",
    "\n",
    "From this point, we would begin to explore the data to enusre it is suitable for analysis. Errors observed in the data would be dealt with to ensure it doesn't affect analysis."
   ]
  },
  {
   "cell_type": "code",
   "execution_count": 6,
   "id": "fa08d001",
   "metadata": {},
   "outputs": [
    {
     "name": "stdout",
     "output_type": "stream",
     "text": [
      "<class 'pandas.core.frame.DataFrame'>\n",
      "RangeIndex: 11118 entries, 0 to 11117\n",
      "Data columns (total 11 columns):\n",
      " #   Column                         Non-Null Count  Dtype \n",
      "---  ------                         --------------  ----- \n",
      " 0   House Number                   11115 non-null  object\n",
      " 1   Street                         11117 non-null  object\n",
      " 2   First Name                     11116 non-null  object\n",
      " 3   Surname                        11117 non-null  object\n",
      " 4   Age                            11118 non-null  object\n",
      " 5   Relationship to Head of House  11118 non-null  object\n",
      " 6   Marital Status                 8354 non-null   object\n",
      " 7   Gender                         11116 non-null  object\n",
      " 8   Occupation                     11118 non-null  object\n",
      " 9   Infirmity                      11118 non-null  object\n",
      " 10  Religion                       8294 non-null   object\n",
      "dtypes: object(11)\n",
      "memory usage: 955.6+ KB\n"
     ]
    }
   ],
   "source": [
    "census.info()"
   ]
  },
  {
   "cell_type": "code",
   "execution_count": 7,
   "id": "d22ed0d1",
   "metadata": {},
   "outputs": [],
   "source": [
    "#pp.ProfileReport(census) #to display the report"
   ]
  },
  {
   "cell_type": "code",
   "execution_count": 8,
   "id": "1df5f920",
   "metadata": {},
   "outputs": [],
   "source": [
    "#my_report = sv.analyze(census)\n",
    "#my_report.show_html() # Default arguments will generate to \"SWEETVIZ_REPORT.html\""
   ]
  },
  {
   "cell_type": "markdown",
   "id": "82b7e01c",
   "metadata": {},
   "source": [
    "# Dealing with Spaces\n",
    "\n",
    "\n",
    "Spaces observed in the data set were not captured as null values when checking for null values, these are categorized as non standard misisng data and were handled by reading the data in with na_values"
   ]
  },
  {
   "cell_type": "code",
   "execution_count": 9,
   "id": "6aed8a9c",
   "metadata": {},
   "outputs": [],
   "source": [
    "missing_data = [\" \", \"  \", \"\"]\n",
    "census = pd.read_csv(\"census_01.csv\", na_values=missing_data) # to read in the spaces as null values"
   ]
  },
  {
   "cell_type": "markdown",
   "id": "b7dbd790",
   "metadata": {},
   "source": [
    "# Cleaning Age Column\n",
    "\n",
    "1. it is observed we have ages captured as words\n",
    "2. We have missing values in this age column, which have been assigned 17years\n",
    "3. Ages written as decimal numbers were rounded off\n",
    "4. Ages captured as negative values were converted to positive values.\n",
    "5. Age is in strings format which were changed to integers\n",
    "6. A person has lied about their age to be 150 when the oldest known human in recent times have said to be 122. This was corrected to 50 years. This is based on the fact he is still employed, 50 is close to the average age of those in same occupation as him, the age of the son who is 32 and 150 could be a typo for 150 years."
   ]
  },
  {
   "cell_type": "code",
   "execution_count": 10,
   "id": "6129de29",
   "metadata": {},
   "outputs": [
    {
     "data": {
      "text/plain": [
       "array(['29', '31', '6', '3', '81', '83', '54', '56', '71', '20', '19',\n",
       "       '46', '44', '18', '14', '62', '70', '51', '49', '17', '47', '25',\n",
       "       '23', '32', '33', '35', '11', '77', '43', '58', '57', '40', '37',\n",
       "       '64', '75', '61', '59', '45', '42', '13', '27', '21', '104', '41',\n",
       "       '38', '36', '34', '26', '55', '48', '15', '60', '4', '1', '72',\n",
       "       '65', '52', '2', '12', '8', '53', '9', '66', '68', '63', '22',\n",
       "       '73', '78', '39', '5', '24', '10', '86', '82', '80', '28', '30',\n",
       "       '16', '7', '76', '0', '85', '50', '74', '69', '84', '92', '67',\n",
       "       '89', '88', '94', '99', '79', '87', '105', '82.67482093',\n",
       "       '85.67482093', '93', '20.3', 'nineteen', '101', '98', '150', '-1',\n",
       "       '65.94133739', '66.94133739', '0.5', '103', '96', '95', nan, '91',\n",
       "       '97', '90', '65.54297878', '61.54297878', '66.6', '108', 'fifteen'],\n",
       "      dtype=object)"
      ]
     },
     "execution_count": 10,
     "metadata": {},
     "output_type": "execute_result"
    }
   ],
   "source": [
    "census[\"Age\"].unique() # gives the unique values in the Age column"
   ]
  },
  {
   "cell_type": "code",
   "execution_count": 11,
   "id": "f12227bc",
   "metadata": {},
   "outputs": [
    {
     "data": {
      "text/html": [
       "<div>\n",
       "<style scoped>\n",
       "    .dataframe tbody tr th:only-of-type {\n",
       "        vertical-align: middle;\n",
       "    }\n",
       "\n",
       "    .dataframe tbody tr th {\n",
       "        vertical-align: top;\n",
       "    }\n",
       "\n",
       "    .dataframe thead th {\n",
       "        text-align: right;\n",
       "    }\n",
       "</style>\n",
       "<table border=\"1\" class=\"dataframe\">\n",
       "  <thead>\n",
       "    <tr style=\"text-align: right;\">\n",
       "      <th></th>\n",
       "      <th>House Number</th>\n",
       "      <th>Street</th>\n",
       "      <th>First Name</th>\n",
       "      <th>Surname</th>\n",
       "      <th>Age</th>\n",
       "      <th>Relationship to Head of House</th>\n",
       "      <th>Marital Status</th>\n",
       "      <th>Gender</th>\n",
       "      <th>Occupation</th>\n",
       "      <th>Infirmity</th>\n",
       "      <th>Religion</th>\n",
       "    </tr>\n",
       "  </thead>\n",
       "  <tbody>\n",
       "    <tr>\n",
       "      <th>3327</th>\n",
       "      <td>62</td>\n",
       "      <td>Railwaycharm Street</td>\n",
       "      <td>Donna</td>\n",
       "      <td>Hill</td>\n",
       "      <td>nineteen</td>\n",
       "      <td>Head</td>\n",
       "      <td>Single</td>\n",
       "      <td>Female</td>\n",
       "      <td>University Student</td>\n",
       "      <td>None</td>\n",
       "      <td>None</td>\n",
       "    </tr>\n",
       "    <tr>\n",
       "      <th>3905</th>\n",
       "      <td>63</td>\n",
       "      <td>White Cliffs</td>\n",
       "      <td>Billy</td>\n",
       "      <td>Wood</td>\n",
       "      <td>-1</td>\n",
       "      <td>Son</td>\n",
       "      <td>NaN</td>\n",
       "      <td>Male</td>\n",
       "      <td>Child</td>\n",
       "      <td>None</td>\n",
       "      <td>NaN</td>\n",
       "    </tr>\n",
       "    <tr>\n",
       "      <th>5044</th>\n",
       "      <td>34</td>\n",
       "      <td>Oyster Valley</td>\n",
       "      <td>Clive</td>\n",
       "      <td>Bennett-Andrews</td>\n",
       "      <td>NaN</td>\n",
       "      <td>Son</td>\n",
       "      <td>NaN</td>\n",
       "      <td>Male</td>\n",
       "      <td>Student</td>\n",
       "      <td>None</td>\n",
       "      <td>NaN</td>\n",
       "    </tr>\n",
       "    <tr>\n",
       "      <th>10305</th>\n",
       "      <td>9</td>\n",
       "      <td>Griffiths Drive</td>\n",
       "      <td>Denise</td>\n",
       "      <td>Tucker</td>\n",
       "      <td>fifteen</td>\n",
       "      <td>Granddaughter</td>\n",
       "      <td>NaN</td>\n",
       "      <td>Female</td>\n",
       "      <td>Student</td>\n",
       "      <td>None</td>\n",
       "      <td>NaN</td>\n",
       "    </tr>\n",
       "  </tbody>\n",
       "</table>\n",
       "</div>"
      ],
      "text/plain": [
       "      House Number               Street First Name          Surname       Age  \\\n",
       "3327            62  Railwaycharm Street      Donna             Hill  nineteen   \n",
       "3905            63         White Cliffs      Billy             Wood        -1   \n",
       "5044            34        Oyster Valley      Clive  Bennett-Andrews       NaN   \n",
       "10305            9      Griffiths Drive     Denise           Tucker   fifteen   \n",
       "\n",
       "      Relationship to Head of House Marital Status  Gender  \\\n",
       "3327                           Head         Single  Female   \n",
       "3905                            Son            NaN    Male   \n",
       "5044                            Son            NaN    Male   \n",
       "10305                 Granddaughter            NaN  Female   \n",
       "\n",
       "               Occupation Infirmity Religion  \n",
       "3327   University Student      None     None  \n",
       "3905                Child      None      NaN  \n",
       "5044              Student      None      NaN  \n",
       "10305             Student      None      NaN  "
      ]
     },
     "execution_count": 11,
     "metadata": {},
     "output_type": "execute_result"
    }
   ],
   "source": [
    "#returns all rows shaving the specified values.\n",
    "census[(census[\"Age\"]==\"nineteen\" ) |(census[\"Age\"]==\"-1\")|(census[\"Age\"]==\"fifteen\")|(census[\"Age\"].isnull())]\n"
   ]
  },
  {
   "cell_type": "markdown",
   "id": "1cd6446d",
   "metadata": {},
   "source": [
    "Using indexing to change values\n",
    "\n",
    "the values veing changed here are based on assumption that they were wrongly captured  in words and negative values"
   ]
  },
  {
   "cell_type": "code",
   "execution_count": 12,
   "id": "970ba575",
   "metadata": {},
   "outputs": [],
   "source": [
    "census.loc[[3327,3905,10305,5044],\"Age\"] =[\"19\",\"1\",\"15\",\"17\"] #this uses the index and changes them to the items in the list."
   ]
  },
  {
   "cell_type": "markdown",
   "id": "bbf2d2f9",
   "metadata": {},
   "source": [
    "The Nan value was changed to 17 years because he is classified as a student. In this data, you have to be 18 to be classified as a university student."
   ]
  },
  {
   "cell_type": "code",
   "execution_count": 13,
   "id": "98e02491",
   "metadata": {},
   "outputs": [
    {
     "data": {
      "text/html": [
       "<div>\n",
       "<style scoped>\n",
       "    .dataframe tbody tr th:only-of-type {\n",
       "        vertical-align: middle;\n",
       "    }\n",
       "\n",
       "    .dataframe tbody tr th {\n",
       "        vertical-align: top;\n",
       "    }\n",
       "\n",
       "    .dataframe thead th {\n",
       "        text-align: right;\n",
       "    }\n",
       "</style>\n",
       "<table border=\"1\" class=\"dataframe\">\n",
       "  <thead>\n",
       "    <tr style=\"text-align: right;\">\n",
       "      <th></th>\n",
       "      <th>House Number</th>\n",
       "      <th>Street</th>\n",
       "      <th>First Name</th>\n",
       "      <th>Surname</th>\n",
       "      <th>Age</th>\n",
       "      <th>Relationship to Head of House</th>\n",
       "      <th>Marital Status</th>\n",
       "      <th>Gender</th>\n",
       "      <th>Occupation</th>\n",
       "      <th>Infirmity</th>\n",
       "      <th>Religion</th>\n",
       "    </tr>\n",
       "  </thead>\n",
       "  <tbody>\n",
       "    <tr>\n",
       "      <th>5042</th>\n",
       "      <td>34</td>\n",
       "      <td>Oyster Valley</td>\n",
       "      <td>Gillian</td>\n",
       "      <td>Bennett-Andrews</td>\n",
       "      <td>49</td>\n",
       "      <td>Head</td>\n",
       "      <td>Single</td>\n",
       "      <td>Female</td>\n",
       "      <td>Psychotherapist, dance movement</td>\n",
       "      <td>None</td>\n",
       "      <td>Catholic</td>\n",
       "    </tr>\n",
       "    <tr>\n",
       "      <th>5043</th>\n",
       "      <td>34</td>\n",
       "      <td>Oyster Valley</td>\n",
       "      <td>Martyn</td>\n",
       "      <td>Hyde</td>\n",
       "      <td>55</td>\n",
       "      <td>Partner</td>\n",
       "      <td>Single</td>\n",
       "      <td>Male</td>\n",
       "      <td>Medical sales representative</td>\n",
       "      <td>None</td>\n",
       "      <td>Catholic</td>\n",
       "    </tr>\n",
       "    <tr>\n",
       "      <th>5044</th>\n",
       "      <td>34</td>\n",
       "      <td>Oyster Valley</td>\n",
       "      <td>Clive</td>\n",
       "      <td>Bennett-Andrews</td>\n",
       "      <td>17</td>\n",
       "      <td>Son</td>\n",
       "      <td>NaN</td>\n",
       "      <td>Male</td>\n",
       "      <td>Student</td>\n",
       "      <td>None</td>\n",
       "      <td>NaN</td>\n",
       "    </tr>\n",
       "  </tbody>\n",
       "</table>\n",
       "</div>"
      ],
      "text/plain": [
       "     House Number         Street First Name          Surname Age  \\\n",
       "5042           34  Oyster Valley    Gillian  Bennett-Andrews  49   \n",
       "5043           34  Oyster Valley     Martyn             Hyde  55   \n",
       "5044           34  Oyster Valley      Clive  Bennett-Andrews  17   \n",
       "\n",
       "     Relationship to Head of House Marital Status  Gender  \\\n",
       "5042                          Head         Single  Female   \n",
       "5043                       Partner         Single    Male   \n",
       "5044                           Son            NaN    Male   \n",
       "\n",
       "                           Occupation Infirmity  Religion  \n",
       "5042  Psychotherapist, dance movement      None  Catholic  \n",
       "5043     Medical sales representative      None  Catholic  \n",
       "5044                          Student      None       NaN  "
      ]
     },
     "execution_count": 13,
     "metadata": {},
     "output_type": "execute_result"
    }
   ],
   "source": [
    "census[(census[\"Street\"]==\"Oyster Valley\") & (census[\"House Number\"]==\"34\")] #to get all the rows having  house number column as 34 and street as Oyster Valley"
   ]
  },
  {
   "cell_type": "code",
   "execution_count": 14,
   "id": "65311f1b",
   "metadata": {},
   "outputs": [],
   "source": [
    "#Changing the age column type to integers\n",
    "census[\"Age\"]= census[\"Age\"].astype(\"float\").astype(\"int\")"
   ]
  },
  {
   "cell_type": "code",
   "execution_count": 15,
   "id": "90495ecc",
   "metadata": {},
   "outputs": [
    {
     "data": {
      "text/plain": [
       "count    11118.000000\n",
       "mean        35.090034\n",
       "std         21.263386\n",
       "min          0.000000\n",
       "25%         18.000000\n",
       "50%         34.000000\n",
       "75%         50.000000\n",
       "max        150.000000\n",
       "Name: Age, dtype: float64"
      ]
     },
     "execution_count": 15,
     "metadata": {},
     "output_type": "execute_result"
    }
   ],
   "source": [
    "census[\"Age\"].describe() #generates the statistics of the Age column"
   ]
  },
  {
   "cell_type": "code",
   "execution_count": 16,
   "id": "87de4ef4",
   "metadata": {},
   "outputs": [
    {
     "data": {
      "text/html": [
       "<div>\n",
       "<style scoped>\n",
       "    .dataframe tbody tr th:only-of-type {\n",
       "        vertical-align: middle;\n",
       "    }\n",
       "\n",
       "    .dataframe tbody tr th {\n",
       "        vertical-align: top;\n",
       "    }\n",
       "\n",
       "    .dataframe thead th {\n",
       "        text-align: right;\n",
       "    }\n",
       "</style>\n",
       "<table border=\"1\" class=\"dataframe\">\n",
       "  <thead>\n",
       "    <tr style=\"text-align: right;\">\n",
       "      <th></th>\n",
       "      <th>House Number</th>\n",
       "      <th>Street</th>\n",
       "      <th>First Name</th>\n",
       "      <th>Surname</th>\n",
       "      <th>Age</th>\n",
       "      <th>Relationship to Head of House</th>\n",
       "      <th>Marital Status</th>\n",
       "      <th>Gender</th>\n",
       "      <th>Occupation</th>\n",
       "      <th>Infirmity</th>\n",
       "      <th>Religion</th>\n",
       "    </tr>\n",
       "  </thead>\n",
       "  <tbody>\n",
       "    <tr>\n",
       "      <th>3829</th>\n",
       "      <td>41</td>\n",
       "      <td>White Cliffs</td>\n",
       "      <td>Jamie</td>\n",
       "      <td>Ashton</td>\n",
       "      <td>150</td>\n",
       "      <td>Head</td>\n",
       "      <td>Married</td>\n",
       "      <td>Male</td>\n",
       "      <td>Scientist, audiological</td>\n",
       "      <td>None</td>\n",
       "      <td>Christian</td>\n",
       "    </tr>\n",
       "  </tbody>\n",
       "</table>\n",
       "</div>"
      ],
      "text/plain": [
       "     House Number        Street First Name Surname  Age  \\\n",
       "3829           41  White Cliffs      Jamie  Ashton  150   \n",
       "\n",
       "     Relationship to Head of House Marital Status Gender  \\\n",
       "3829                          Head        Married   Male   \n",
       "\n",
       "                   Occupation Infirmity   Religion  \n",
       "3829  Scientist, audiological      None  Christian  "
      ]
     },
     "execution_count": 16,
     "metadata": {},
     "output_type": "execute_result"
    }
   ],
   "source": [
    "census[census[\"Age\"]==150] # to call the row where Age column is 150years"
   ]
  },
  {
   "cell_type": "code",
   "execution_count": 17,
   "id": "895d2523",
   "metadata": {},
   "outputs": [
    {
     "data": {
      "text/html": [
       "<div>\n",
       "<style scoped>\n",
       "    .dataframe tbody tr th:only-of-type {\n",
       "        vertical-align: middle;\n",
       "    }\n",
       "\n",
       "    .dataframe tbody tr th {\n",
       "        vertical-align: top;\n",
       "    }\n",
       "\n",
       "    .dataframe thead th {\n",
       "        text-align: right;\n",
       "    }\n",
       "</style>\n",
       "<table border=\"1\" class=\"dataframe\">\n",
       "  <thead>\n",
       "    <tr style=\"text-align: right;\">\n",
       "      <th></th>\n",
       "      <th>House Number</th>\n",
       "      <th>Street</th>\n",
       "      <th>First Name</th>\n",
       "      <th>Surname</th>\n",
       "      <th>Age</th>\n",
       "      <th>Relationship to Head of House</th>\n",
       "      <th>Marital Status</th>\n",
       "      <th>Gender</th>\n",
       "      <th>Occupation</th>\n",
       "      <th>Infirmity</th>\n",
       "      <th>Religion</th>\n",
       "    </tr>\n",
       "  </thead>\n",
       "  <tbody>\n",
       "    <tr>\n",
       "      <th>3829</th>\n",
       "      <td>41</td>\n",
       "      <td>White Cliffs</td>\n",
       "      <td>Jamie</td>\n",
       "      <td>Ashton</td>\n",
       "      <td>150</td>\n",
       "      <td>Head</td>\n",
       "      <td>Married</td>\n",
       "      <td>Male</td>\n",
       "      <td>Scientist, audiological</td>\n",
       "      <td>None</td>\n",
       "      <td>Christian</td>\n",
       "    </tr>\n",
       "    <tr>\n",
       "      <th>3830</th>\n",
       "      <td>41</td>\n",
       "      <td>White Cliffs</td>\n",
       "      <td>Ashleigh</td>\n",
       "      <td>Ashton</td>\n",
       "      <td>60</td>\n",
       "      <td>Wife</td>\n",
       "      <td>Married</td>\n",
       "      <td>Female</td>\n",
       "      <td>Pathologist</td>\n",
       "      <td>None</td>\n",
       "      <td>Christian</td>\n",
       "    </tr>\n",
       "    <tr>\n",
       "      <th>3831</th>\n",
       "      <td>41</td>\n",
       "      <td>White Cliffs</td>\n",
       "      <td>Elliot</td>\n",
       "      <td>Barnes-Ashton</td>\n",
       "      <td>32</td>\n",
       "      <td>Son</td>\n",
       "      <td>Divorced</td>\n",
       "      <td>Male</td>\n",
       "      <td>Herbalist</td>\n",
       "      <td>None</td>\n",
       "      <td>Christian</td>\n",
       "    </tr>\n",
       "  </tbody>\n",
       "</table>\n",
       "</div>"
      ],
      "text/plain": [
       "     House Number        Street First Name        Surname  Age  \\\n",
       "3829           41  White Cliffs      Jamie         Ashton  150   \n",
       "3830           41  White Cliffs   Ashleigh         Ashton   60   \n",
       "3831           41  White Cliffs     Elliot  Barnes-Ashton   32   \n",
       "\n",
       "     Relationship to Head of House Marital Status  Gender  \\\n",
       "3829                          Head        Married    Male   \n",
       "3830                          Wife        Married  Female   \n",
       "3831                           Son       Divorced    Male   \n",
       "\n",
       "                   Occupation Infirmity   Religion  \n",
       "3829  Scientist, audiological      None  Christian  \n",
       "3830              Pathologist      None  Christian  \n",
       "3831                Herbalist      None  Christian  "
      ]
     },
     "execution_count": 17,
     "metadata": {},
     "output_type": "execute_result"
    }
   ],
   "source": [
    "census[(census[\"Street\"]==\"White Cliffs\") & (census[\"House Number\"]==\"41\")] #to get all rows of house number 42 and street white cliffs"
   ]
  },
  {
   "cell_type": "code",
   "execution_count": 18,
   "id": "8a865575",
   "metadata": {},
   "outputs": [
    {
     "data": {
      "text/html": [
       "<div>\n",
       "<style scoped>\n",
       "    .dataframe tbody tr th:only-of-type {\n",
       "        vertical-align: middle;\n",
       "    }\n",
       "\n",
       "    .dataframe tbody tr th {\n",
       "        vertical-align: top;\n",
       "    }\n",
       "\n",
       "    .dataframe thead th {\n",
       "        text-align: right;\n",
       "    }\n",
       "</style>\n",
       "<table border=\"1\" class=\"dataframe\">\n",
       "  <thead>\n",
       "    <tr style=\"text-align: right;\">\n",
       "      <th></th>\n",
       "      <th>House Number</th>\n",
       "      <th>Street</th>\n",
       "      <th>First Name</th>\n",
       "      <th>Surname</th>\n",
       "      <th>Age</th>\n",
       "      <th>Relationship to Head of House</th>\n",
       "      <th>Marital Status</th>\n",
       "      <th>Gender</th>\n",
       "      <th>Occupation</th>\n",
       "      <th>Infirmity</th>\n",
       "      <th>Religion</th>\n",
       "    </tr>\n",
       "  </thead>\n",
       "  <tbody>\n",
       "    <tr>\n",
       "      <th>705</th>\n",
       "      <td>12</td>\n",
       "      <td>Clark Islands</td>\n",
       "      <td>Judith</td>\n",
       "      <td>Edwards-Bolton</td>\n",
       "      <td>28</td>\n",
       "      <td>Daughter</td>\n",
       "      <td>Single</td>\n",
       "      <td>Female</td>\n",
       "      <td>Scientist, audiological</td>\n",
       "      <td>Physical Disability</td>\n",
       "      <td>None</td>\n",
       "    </tr>\n",
       "    <tr>\n",
       "      <th>1441</th>\n",
       "      <td>25</td>\n",
       "      <td>Hull Road</td>\n",
       "      <td>Jeremy</td>\n",
       "      <td>Clarke</td>\n",
       "      <td>37</td>\n",
       "      <td>Husband</td>\n",
       "      <td>Married</td>\n",
       "      <td>Male</td>\n",
       "      <td>Scientist, audiological</td>\n",
       "      <td>None</td>\n",
       "      <td>Methodist</td>\n",
       "    </tr>\n",
       "    <tr>\n",
       "      <th>3829</th>\n",
       "      <td>41</td>\n",
       "      <td>White Cliffs</td>\n",
       "      <td>Jamie</td>\n",
       "      <td>Ashton</td>\n",
       "      <td>150</td>\n",
       "      <td>Head</td>\n",
       "      <td>Married</td>\n",
       "      <td>Male</td>\n",
       "      <td>Scientist, audiological</td>\n",
       "      <td>None</td>\n",
       "      <td>Christian</td>\n",
       "    </tr>\n",
       "    <tr>\n",
       "      <th>3934</th>\n",
       "      <td>73</td>\n",
       "      <td>White Cliffs</td>\n",
       "      <td>Charlie</td>\n",
       "      <td>Pearson</td>\n",
       "      <td>35</td>\n",
       "      <td>Head</td>\n",
       "      <td>Single</td>\n",
       "      <td>Male</td>\n",
       "      <td>Scientist, audiological</td>\n",
       "      <td>None</td>\n",
       "      <td>Catholic</td>\n",
       "    </tr>\n",
       "    <tr>\n",
       "      <th>4515</th>\n",
       "      <td>14</td>\n",
       "      <td>Armaghfast Lane</td>\n",
       "      <td>Anna</td>\n",
       "      <td>O'Connor</td>\n",
       "      <td>23</td>\n",
       "      <td>Head</td>\n",
       "      <td>Married</td>\n",
       "      <td>Female</td>\n",
       "      <td>Scientist, audiological</td>\n",
       "      <td>None</td>\n",
       "      <td>None</td>\n",
       "    </tr>\n",
       "    <tr>\n",
       "      <th>6024</th>\n",
       "      <td>66</td>\n",
       "      <td>Guitar Greens</td>\n",
       "      <td>Kim</td>\n",
       "      <td>Evans</td>\n",
       "      <td>50</td>\n",
       "      <td>Head</td>\n",
       "      <td>Married</td>\n",
       "      <td>Female</td>\n",
       "      <td>Scientist, audiological</td>\n",
       "      <td>None</td>\n",
       "      <td>Christian</td>\n",
       "    </tr>\n",
       "    <tr>\n",
       "      <th>6109</th>\n",
       "      <td>89</td>\n",
       "      <td>Guitar Greens</td>\n",
       "      <td>Natalie</td>\n",
       "      <td>Morrison</td>\n",
       "      <td>39</td>\n",
       "      <td>Head</td>\n",
       "      <td>Married</td>\n",
       "      <td>Female</td>\n",
       "      <td>Scientist, audiological</td>\n",
       "      <td>None</td>\n",
       "      <td>Catholic</td>\n",
       "    </tr>\n",
       "    <tr>\n",
       "      <th>7860</th>\n",
       "      <td>43</td>\n",
       "      <td>Panther Street</td>\n",
       "      <td>George</td>\n",
       "      <td>Davison</td>\n",
       "      <td>36</td>\n",
       "      <td>Son</td>\n",
       "      <td>Single</td>\n",
       "      <td>Male</td>\n",
       "      <td>Scientist, audiological</td>\n",
       "      <td>None</td>\n",
       "      <td>Christian</td>\n",
       "    </tr>\n",
       "    <tr>\n",
       "      <th>8471</th>\n",
       "      <td>34</td>\n",
       "      <td>Stevenson Lodge</td>\n",
       "      <td>Frederick</td>\n",
       "      <td>Ross</td>\n",
       "      <td>27</td>\n",
       "      <td>Son</td>\n",
       "      <td>Divorced</td>\n",
       "      <td>Male</td>\n",
       "      <td>Scientist, audiological</td>\n",
       "      <td>None</td>\n",
       "      <td>Methodist</td>\n",
       "    </tr>\n",
       "    <tr>\n",
       "      <th>9415</th>\n",
       "      <td>3</td>\n",
       "      <td>Albanspay Road</td>\n",
       "      <td>Samantha</td>\n",
       "      <td>Davis</td>\n",
       "      <td>55</td>\n",
       "      <td>Head</td>\n",
       "      <td>Married</td>\n",
       "      <td>Female</td>\n",
       "      <td>Scientist, audiological</td>\n",
       "      <td>None</td>\n",
       "      <td>None</td>\n",
       "    </tr>\n",
       "    <tr>\n",
       "      <th>9704</th>\n",
       "      <td>21</td>\n",
       "      <td>Mahogany Shore</td>\n",
       "      <td>Rachel</td>\n",
       "      <td>Bennett</td>\n",
       "      <td>43</td>\n",
       "      <td>Head</td>\n",
       "      <td>Married</td>\n",
       "      <td>Female</td>\n",
       "      <td>Scientist, audiological</td>\n",
       "      <td>None</td>\n",
       "      <td>Christian</td>\n",
       "    </tr>\n",
       "    <tr>\n",
       "      <th>10190</th>\n",
       "      <td>10</td>\n",
       "      <td>Edinburgh Lane</td>\n",
       "      <td>Lewis</td>\n",
       "      <td>Shah</td>\n",
       "      <td>46</td>\n",
       "      <td>Head</td>\n",
       "      <td>Married</td>\n",
       "      <td>Male</td>\n",
       "      <td>Scientist, audiological</td>\n",
       "      <td>None</td>\n",
       "      <td>None</td>\n",
       "    </tr>\n",
       "  </tbody>\n",
       "</table>\n",
       "</div>"
      ],
      "text/plain": [
       "      House Number           Street First Name         Surname  Age  \\\n",
       "705             12    Clark Islands     Judith  Edwards-Bolton   28   \n",
       "1441            25        Hull Road     Jeremy          Clarke   37   \n",
       "3829            41     White Cliffs      Jamie          Ashton  150   \n",
       "3934            73     White Cliffs    Charlie         Pearson   35   \n",
       "4515            14  Armaghfast Lane       Anna        O'Connor   23   \n",
       "6024            66    Guitar Greens        Kim           Evans   50   \n",
       "6109            89    Guitar Greens    Natalie        Morrison   39   \n",
       "7860            43   Panther Street     George         Davison   36   \n",
       "8471            34  Stevenson Lodge  Frederick            Ross   27   \n",
       "9415             3   Albanspay Road   Samantha           Davis   55   \n",
       "9704            21   Mahogany Shore     Rachel         Bennett   43   \n",
       "10190           10   Edinburgh Lane      Lewis            Shah   46   \n",
       "\n",
       "      Relationship to Head of House Marital Status  Gender  \\\n",
       "705                        Daughter         Single  Female   \n",
       "1441                        Husband        Married    Male   \n",
       "3829                           Head        Married    Male   \n",
       "3934                           Head         Single    Male   \n",
       "4515                           Head        Married  Female   \n",
       "6024                           Head        Married  Female   \n",
       "6109                           Head        Married  Female   \n",
       "7860                            Son         Single    Male   \n",
       "8471                            Son       Divorced    Male   \n",
       "9415                           Head        Married  Female   \n",
       "9704                           Head        Married  Female   \n",
       "10190                          Head        Married    Male   \n",
       "\n",
       "                    Occupation            Infirmity   Religion  \n",
       "705    Scientist, audiological  Physical Disability       None  \n",
       "1441   Scientist, audiological                 None  Methodist  \n",
       "3829   Scientist, audiological                 None  Christian  \n",
       "3934   Scientist, audiological                 None   Catholic  \n",
       "4515   Scientist, audiological                 None       None  \n",
       "6024   Scientist, audiological                 None  Christian  \n",
       "6109   Scientist, audiological                 None   Catholic  \n",
       "7860   Scientist, audiological                 None  Christian  \n",
       "8471   Scientist, audiological                 None  Methodist  \n",
       "9415   Scientist, audiological                 None       None  \n",
       "9704   Scientist, audiological                 None  Christian  \n",
       "10190  Scientist, audiological                 None       None  "
      ]
     },
     "execution_count": 18,
     "metadata": {},
     "output_type": "execute_result"
    }
   ],
   "source": [
    "census[census[\"Occupation\"]==\"Scientist, audiological\"] # getting all rows where the occupation column is Scientist,audiological"
   ]
  },
  {
   "cell_type": "code",
   "execution_count": 19,
   "id": "88e49b15",
   "metadata": {},
   "outputs": [],
   "source": [
    "census.loc[3829,\"Age\"]=50 #using row indexing method to change age from 150 to 50 years"
   ]
  },
  {
   "cell_type": "markdown",
   "id": "6f14b929",
   "metadata": {},
   "source": [
    "# Cleaning Gender column\n",
    "\n",
    "1. gender was recorded in multiple formats which would be converted to Male and Female because as at 1881, those were the only recognised genders.\n",
    "2. nan type were decided by the names of the persons as there are generally accpeted female names and male names"
   ]
  },
  {
   "cell_type": "code",
   "execution_count": 20,
   "id": "3760273d",
   "metadata": {
    "scrolled": true
   },
   "outputs": [
    {
     "data": {
      "text/plain": [
       "array(['Female', 'Male', 'M', 'FEMALE', 'MALE', 'F', nan], dtype=object)"
      ]
     },
     "execution_count": 20,
     "metadata": {},
     "output_type": "execute_result"
    }
   ],
   "source": [
    "census[\"Gender\"].unique() #generates unique values in the Gender column"
   ]
  },
  {
   "cell_type": "code",
   "execution_count": 21,
   "id": "a8471b69",
   "metadata": {},
   "outputs": [],
   "source": [
    "values_to_replace= {\"M\":\"Male\",\"MALE\":\"Male\",\"F\":\"Female\",\"FEMALE\":\"Female\"} #a dictionary of changes to be made\n",
    "census[\"Gender\"].replace(values_to_replace, inplace=True)  #replacing the values under gender column and using inplace to make the changes permanent"
   ]
  },
  {
   "cell_type": "code",
   "execution_count": 22,
   "id": "538ebecc",
   "metadata": {
    "scrolled": true
   },
   "outputs": [
    {
     "data": {
      "text/html": [
       "<div>\n",
       "<style scoped>\n",
       "    .dataframe tbody tr th:only-of-type {\n",
       "        vertical-align: middle;\n",
       "    }\n",
       "\n",
       "    .dataframe tbody tr th {\n",
       "        vertical-align: top;\n",
       "    }\n",
       "\n",
       "    .dataframe thead th {\n",
       "        text-align: right;\n",
       "    }\n",
       "</style>\n",
       "<table border=\"1\" class=\"dataframe\">\n",
       "  <thead>\n",
       "    <tr style=\"text-align: right;\">\n",
       "      <th></th>\n",
       "      <th>House Number</th>\n",
       "      <th>Street</th>\n",
       "      <th>First Name</th>\n",
       "      <th>Surname</th>\n",
       "      <th>Age</th>\n",
       "      <th>Relationship to Head of House</th>\n",
       "      <th>Marital Status</th>\n",
       "      <th>Gender</th>\n",
       "      <th>Occupation</th>\n",
       "      <th>Infirmity</th>\n",
       "      <th>Religion</th>\n",
       "    </tr>\n",
       "  </thead>\n",
       "  <tbody>\n",
       "    <tr>\n",
       "      <th>3298</th>\n",
       "      <td>54</td>\n",
       "      <td>Railwaycharm Street</td>\n",
       "      <td>Leonard</td>\n",
       "      <td>Mahmood</td>\n",
       "      <td>38</td>\n",
       "      <td>Husband</td>\n",
       "      <td>Married</td>\n",
       "      <td>NaN</td>\n",
       "      <td>Risk manager</td>\n",
       "      <td>None</td>\n",
       "      <td>Catholic</td>\n",
       "    </tr>\n",
       "    <tr>\n",
       "      <th>7330</th>\n",
       "      <td>17</td>\n",
       "      <td>Payne Square</td>\n",
       "      <td>Victoria</td>\n",
       "      <td>James</td>\n",
       "      <td>37</td>\n",
       "      <td>Head</td>\n",
       "      <td>Married</td>\n",
       "      <td>NaN</td>\n",
       "      <td>Solicitor, Scotland</td>\n",
       "      <td>None</td>\n",
       "      <td>Christian</td>\n",
       "    </tr>\n",
       "    <tr>\n",
       "      <th>7743</th>\n",
       "      <td>25</td>\n",
       "      <td>Panther Street</td>\n",
       "      <td>Nigel</td>\n",
       "      <td>Fisher</td>\n",
       "      <td>35</td>\n",
       "      <td>Adopted Son</td>\n",
       "      <td>Divorced</td>\n",
       "      <td>NaN</td>\n",
       "      <td>Corporate investment banker</td>\n",
       "      <td>None</td>\n",
       "      <td>Christian</td>\n",
       "    </tr>\n",
       "  </tbody>\n",
       "</table>\n",
       "</div>"
      ],
      "text/plain": [
       "     House Number               Street First Name  Surname  Age  \\\n",
       "3298           54  Railwaycharm Street    Leonard  Mahmood   38   \n",
       "7330           17         Payne Square   Victoria    James   37   \n",
       "7743           25       Panther Street      Nigel   Fisher   35   \n",
       "\n",
       "     Relationship to Head of House Marital Status Gender  \\\n",
       "3298                       Husband        Married    NaN   \n",
       "7330                          Head        Married    NaN   \n",
       "7743                   Adopted Son       Divorced    NaN   \n",
       "\n",
       "                       Occupation Infirmity   Religion  \n",
       "3298                 Risk manager      None   Catholic  \n",
       "7330          Solicitor, Scotland      None  Christian  \n",
       "7743  Corporate investment banker      None  Christian  "
      ]
     },
     "execution_count": 22,
     "metadata": {},
     "output_type": "execute_result"
    }
   ],
   "source": [
    "census[census[\"Gender\"].isnull()] #to get all rows with the null values under gender column"
   ]
  },
  {
   "cell_type": "code",
   "execution_count": 23,
   "id": "d1d8f5ae",
   "metadata": {},
   "outputs": [],
   "source": [
    "census.loc[[3298,7330,7743], \"Gender\"] = [\"Male\",\"Female\",\"Male\"] #using indexing to replace all null values under Gender column"
   ]
  },
  {
   "cell_type": "markdown",
   "id": "07a1675e",
   "metadata": {},
   "source": [
    "# Relationship to Head of House\n",
    "1.There is a missing record in this column which was replaced by Head, as the person is married and lives with her husband. 2.wife wasn't used as in this data Head is used for partner of husband/wife."
   ]
  },
  {
   "cell_type": "code",
   "execution_count": 24,
   "id": "1299e933",
   "metadata": {
    "scrolled": true
   },
   "outputs": [
    {
     "data": {
      "text/html": [
       "<div>\n",
       "<style scoped>\n",
       "    .dataframe tbody tr th:only-of-type {\n",
       "        vertical-align: middle;\n",
       "    }\n",
       "\n",
       "    .dataframe tbody tr th {\n",
       "        vertical-align: top;\n",
       "    }\n",
       "\n",
       "    .dataframe thead th {\n",
       "        text-align: right;\n",
       "    }\n",
       "</style>\n",
       "<table border=\"1\" class=\"dataframe\">\n",
       "  <thead>\n",
       "    <tr style=\"text-align: right;\">\n",
       "      <th></th>\n",
       "      <th>House Number</th>\n",
       "      <th>Street</th>\n",
       "      <th>First Name</th>\n",
       "      <th>Surname</th>\n",
       "      <th>Age</th>\n",
       "      <th>Relationship to Head of House</th>\n",
       "      <th>Marital Status</th>\n",
       "      <th>Gender</th>\n",
       "      <th>Occupation</th>\n",
       "      <th>Infirmity</th>\n",
       "      <th>Religion</th>\n",
       "    </tr>\n",
       "  </thead>\n",
       "  <tbody>\n",
       "    <tr>\n",
       "      <th>4801</th>\n",
       "      <td>6</td>\n",
       "      <td>Clarke Lake</td>\n",
       "      <td>Mary</td>\n",
       "      <td>Roberts</td>\n",
       "      <td>37</td>\n",
       "      <td>NaN</td>\n",
       "      <td>Married</td>\n",
       "      <td>Female</td>\n",
       "      <td>Radio broadcast assistant</td>\n",
       "      <td>None</td>\n",
       "      <td>Catholic</td>\n",
       "    </tr>\n",
       "  </tbody>\n",
       "</table>\n",
       "</div>"
      ],
      "text/plain": [
       "     House Number       Street First Name  Surname  Age  \\\n",
       "4801            6  Clarke Lake       Mary  Roberts   37   \n",
       "\n",
       "     Relationship to Head of House Marital Status  Gender  \\\n",
       "4801                           NaN        Married  Female   \n",
       "\n",
       "                     Occupation Infirmity  Religion  \n",
       "4801  Radio broadcast assistant      None  Catholic  "
      ]
     },
     "execution_count": 24,
     "metadata": {},
     "output_type": "execute_result"
    }
   ],
   "source": [
    "census[census[\"Relationship to Head of House\"].isnull()] # to get the row having null values under relationship to head of house"
   ]
  },
  {
   "cell_type": "code",
   "execution_count": 25,
   "id": "e714a5b3",
   "metadata": {},
   "outputs": [
    {
     "data": {
      "text/html": [
       "<div>\n",
       "<style scoped>\n",
       "    .dataframe tbody tr th:only-of-type {\n",
       "        vertical-align: middle;\n",
       "    }\n",
       "\n",
       "    .dataframe tbody tr th {\n",
       "        vertical-align: top;\n",
       "    }\n",
       "\n",
       "    .dataframe thead th {\n",
       "        text-align: right;\n",
       "    }\n",
       "</style>\n",
       "<table border=\"1\" class=\"dataframe\">\n",
       "  <thead>\n",
       "    <tr style=\"text-align: right;\">\n",
       "      <th></th>\n",
       "      <th>House Number</th>\n",
       "      <th>Street</th>\n",
       "      <th>First Name</th>\n",
       "      <th>Surname</th>\n",
       "      <th>Age</th>\n",
       "      <th>Relationship to Head of House</th>\n",
       "      <th>Marital Status</th>\n",
       "      <th>Gender</th>\n",
       "      <th>Occupation</th>\n",
       "      <th>Infirmity</th>\n",
       "      <th>Religion</th>\n",
       "    </tr>\n",
       "  </thead>\n",
       "  <tbody>\n",
       "    <tr>\n",
       "      <th>4801</th>\n",
       "      <td>6</td>\n",
       "      <td>Clarke Lake</td>\n",
       "      <td>Mary</td>\n",
       "      <td>Roberts</td>\n",
       "      <td>37</td>\n",
       "      <td>NaN</td>\n",
       "      <td>Married</td>\n",
       "      <td>Female</td>\n",
       "      <td>Radio broadcast assistant</td>\n",
       "      <td>None</td>\n",
       "      <td>Catholic</td>\n",
       "    </tr>\n",
       "    <tr>\n",
       "      <th>4802</th>\n",
       "      <td>6</td>\n",
       "      <td>Clarke Lake</td>\n",
       "      <td>George</td>\n",
       "      <td>Roberts</td>\n",
       "      <td>39</td>\n",
       "      <td>Husband</td>\n",
       "      <td>Married</td>\n",
       "      <td>Male</td>\n",
       "      <td>Futures trader</td>\n",
       "      <td>None</td>\n",
       "      <td>None</td>\n",
       "    </tr>\n",
       "  </tbody>\n",
       "</table>\n",
       "</div>"
      ],
      "text/plain": [
       "     House Number       Street First Name  Surname  Age  \\\n",
       "4801            6  Clarke Lake       Mary  Roberts   37   \n",
       "4802            6  Clarke Lake     George  Roberts   39   \n",
       "\n",
       "     Relationship to Head of House Marital Status  Gender  \\\n",
       "4801                           NaN        Married  Female   \n",
       "4802                       Husband        Married    Male   \n",
       "\n",
       "                     Occupation Infirmity  Religion  \n",
       "4801  Radio broadcast assistant      None  Catholic  \n",
       "4802             Futures trader      None      None  "
      ]
     },
     "execution_count": 25,
     "metadata": {},
     "output_type": "execute_result"
    }
   ],
   "source": [
    "census[(census[\"Street\"]==\"Clarke Lake\") & (census[\"House Number\"]==\"6\")] # calls all rows having Clarke lake under Street column and 6 under house number"
   ]
  },
  {
   "cell_type": "code",
   "execution_count": 26,
   "id": "a6aadedc",
   "metadata": {},
   "outputs": [],
   "source": [
    "census.loc[4801,\"Relationship to Head of House\"] =\"Head\" #using row indexing to change Nan value to \"head\""
   ]
  },
  {
   "cell_type": "markdown",
   "id": "d302384d",
   "metadata": {},
   "source": [
    "# Marital Status\n",
    "1. Marital Status were filled with S,M,W for Single Married, Widowed respectively. This has been replaced appropriately.\n",
    "2. There were missing values which needs to be replaced.\n",
    "3. There is a lot null values in this column. those below 16years were changed to \"Never married\" as the legal age for marriage in the Uk is 16years. Source:https://census.gov.uk/help/how-to-answer-questions/paper-questions-help/on-21-march-2021-what-is-your-legal-marital-or-registered-civil-partnership-status\n",
    "4. Persons who have null marital status and are above 18 years, living alone or living with parents and siblings were classified as single.\n",
    "5. Peope with ages between 16-17 where the relationship to head of house is not Head, is head but lives alone, were also classified as single."
   ]
  },
  {
   "cell_type": "code",
   "execution_count": 27,
   "id": "3c548016",
   "metadata": {},
   "outputs": [
    {
     "data": {
      "text/plain": [
       "array(['Single', nan, 'Married', 'Widowed', 'Divorced', 'S', 'M', 'W'],\n",
       "      dtype=object)"
      ]
     },
     "execution_count": 27,
     "metadata": {},
     "output_type": "execute_result"
    }
   ],
   "source": [
    "census[\"Marital Status\"].unique() #returns unique values under marital status"
   ]
  },
  {
   "cell_type": "code",
   "execution_count": 28,
   "id": "f2f2375c",
   "metadata": {},
   "outputs": [],
   "source": [
    "value_to_replace= {\"M\":\"Married\",\"S\":\"Single\",\"W\":\"Widowed\"} #dictionary of what to be replaced\n",
    "census[\"Marital Status\"].replace(value_to_replace, inplace=True) #using .replace() to effect the changes permanently using inplace."
   ]
  },
  {
   "cell_type": "code",
   "execution_count": 29,
   "id": "8509356a",
   "metadata": {},
   "outputs": [],
   "source": [
    "under16= (census.Age<16)\n",
    "census.loc[under16, \"Marital Status\"] = \"Never Married\" #to change marital status column where age is less than 16"
   ]
  },
  {
   "cell_type": "code",
   "execution_count": 30,
   "id": "7dbe4b8e",
   "metadata": {},
   "outputs": [],
   "source": [
    "census[\"Marital Status\"].replace(np.nan, \"Single\", inplace=True) #to change remaining nan values for those above 16 to Single"
   ]
  },
  {
   "cell_type": "markdown",
   "id": "859c1f68",
   "metadata": {},
   "source": [
    "# House Number\n",
    "\n",
    "1. Missing House number was gotten by checking for familes who live in same address"
   ]
  },
  {
   "cell_type": "code",
   "execution_count": 31,
   "id": "37c9c2b7",
   "metadata": {},
   "outputs": [
    {
     "data": {
      "text/html": [
       "<div>\n",
       "<style scoped>\n",
       "    .dataframe tbody tr th:only-of-type {\n",
       "        vertical-align: middle;\n",
       "    }\n",
       "\n",
       "    .dataframe tbody tr th {\n",
       "        vertical-align: top;\n",
       "    }\n",
       "\n",
       "    .dataframe thead th {\n",
       "        text-align: right;\n",
       "    }\n",
       "</style>\n",
       "<table border=\"1\" class=\"dataframe\">\n",
       "  <thead>\n",
       "    <tr style=\"text-align: right;\">\n",
       "      <th></th>\n",
       "      <th>House Number</th>\n",
       "      <th>Street</th>\n",
       "      <th>First Name</th>\n",
       "      <th>Surname</th>\n",
       "      <th>Age</th>\n",
       "      <th>Relationship to Head of House</th>\n",
       "      <th>Marital Status</th>\n",
       "      <th>Gender</th>\n",
       "      <th>Occupation</th>\n",
       "      <th>Infirmity</th>\n",
       "      <th>Religion</th>\n",
       "    </tr>\n",
       "  </thead>\n",
       "  <tbody>\n",
       "    <tr>\n",
       "      <th>6</th>\n",
       "      <td>NaN</td>\n",
       "      <td>Renaissance Lane</td>\n",
       "      <td>Hazel</td>\n",
       "      <td>Richards</td>\n",
       "      <td>54</td>\n",
       "      <td>Head</td>\n",
       "      <td>Married</td>\n",
       "      <td>Female</td>\n",
       "      <td>Housing manager/officer</td>\n",
       "      <td>None</td>\n",
       "      <td>None</td>\n",
       "    </tr>\n",
       "    <tr>\n",
       "      <th>87</th>\n",
       "      <td>NaN</td>\n",
       "      <td>Owen Inlet</td>\n",
       "      <td>Kevin</td>\n",
       "      <td>Phillips</td>\n",
       "      <td>45</td>\n",
       "      <td>Head</td>\n",
       "      <td>Divorced</td>\n",
       "      <td>Male</td>\n",
       "      <td>Data scientist</td>\n",
       "      <td>None</td>\n",
       "      <td>Methodist</td>\n",
       "    </tr>\n",
       "    <tr>\n",
       "      <th>5849</th>\n",
       "      <td>NaN</td>\n",
       "      <td>Guitar Greens</td>\n",
       "      <td>Megan</td>\n",
       "      <td>Daniels</td>\n",
       "      <td>45</td>\n",
       "      <td>Head</td>\n",
       "      <td>Married</td>\n",
       "      <td>Female</td>\n",
       "      <td>Teacher, secondary school</td>\n",
       "      <td>None</td>\n",
       "      <td>Christian</td>\n",
       "    </tr>\n",
       "    <tr>\n",
       "      <th>8690</th>\n",
       "      <td>NaN</td>\n",
       "      <td>Sharkwash Road</td>\n",
       "      <td>Jeremy</td>\n",
       "      <td>Osborne</td>\n",
       "      <td>21</td>\n",
       "      <td>Head</td>\n",
       "      <td>Single</td>\n",
       "      <td>Male</td>\n",
       "      <td>University Student</td>\n",
       "      <td>None</td>\n",
       "      <td>Muslim</td>\n",
       "    </tr>\n",
       "  </tbody>\n",
       "</table>\n",
       "</div>"
      ],
      "text/plain": [
       "     House Number            Street First Name   Surname  Age  \\\n",
       "6             NaN  Renaissance Lane      Hazel  Richards   54   \n",
       "87            NaN        Owen Inlet      Kevin  Phillips   45   \n",
       "5849          NaN     Guitar Greens      Megan   Daniels   45   \n",
       "8690          NaN    Sharkwash Road     Jeremy   Osborne   21   \n",
       "\n",
       "     Relationship to Head of House Marital Status  Gender  \\\n",
       "6                             Head        Married  Female   \n",
       "87                            Head       Divorced    Male   \n",
       "5849                          Head        Married  Female   \n",
       "8690                          Head         Single    Male   \n",
       "\n",
       "                     Occupation Infirmity   Religion  \n",
       "6       Housing manager/officer      None       None  \n",
       "87               Data scientist      None  Methodist  \n",
       "5849  Teacher, secondary school      None  Christian  \n",
       "8690         University Student      None     Muslim  "
      ]
     },
     "execution_count": 31,
     "metadata": {},
     "output_type": "execute_result"
    }
   ],
   "source": [
    "census[census[\"House Number\"].isnull()]# returns all null valkues under House number column"
   ]
  },
  {
   "cell_type": "code",
   "execution_count": 32,
   "id": "e3287097",
   "metadata": {},
   "outputs": [],
   "source": [
    "census.loc[[6,87,5849,7571,8690],\"House Number\"] = [\"3\",\"14\",\"21\",\"2\",\"81\"] #to change value of multiple rows under House Number"
   ]
  },
  {
   "cell_type": "markdown",
   "id": "e7ecb783",
   "metadata": {},
   "source": [
    "# Street Column"
   ]
  },
  {
   "cell_type": "code",
   "execution_count": 33,
   "id": "6de34c25",
   "metadata": {},
   "outputs": [
    {
     "data": {
      "text/plain": [
       "1"
      ]
     },
     "execution_count": 33,
     "metadata": {},
     "output_type": "execute_result"
    }
   ],
   "source": [
    "census[\"Street\"].isnull().sum() #returns the number of null values under Street column"
   ]
  },
  {
   "cell_type": "code",
   "execution_count": 34,
   "id": "3b6fc54a",
   "metadata": {},
   "outputs": [
    {
     "data": {
      "text/html": [
       "<div>\n",
       "<style scoped>\n",
       "    .dataframe tbody tr th:only-of-type {\n",
       "        vertical-align: middle;\n",
       "    }\n",
       "\n",
       "    .dataframe tbody tr th {\n",
       "        vertical-align: top;\n",
       "    }\n",
       "\n",
       "    .dataframe thead th {\n",
       "        text-align: right;\n",
       "    }\n",
       "</style>\n",
       "<table border=\"1\" class=\"dataframe\">\n",
       "  <thead>\n",
       "    <tr style=\"text-align: right;\">\n",
       "      <th></th>\n",
       "      <th>House Number</th>\n",
       "      <th>Street</th>\n",
       "      <th>First Name</th>\n",
       "      <th>Surname</th>\n",
       "      <th>Age</th>\n",
       "      <th>Relationship to Head of House</th>\n",
       "      <th>Marital Status</th>\n",
       "      <th>Gender</th>\n",
       "      <th>Occupation</th>\n",
       "      <th>Infirmity</th>\n",
       "      <th>Religion</th>\n",
       "    </tr>\n",
       "  </thead>\n",
       "  <tbody>\n",
       "    <tr>\n",
       "      <th>9923</th>\n",
       "      <td>108</td>\n",
       "      <td>NaN</td>\n",
       "      <td>Derek</td>\n",
       "      <td>Martin</td>\n",
       "      <td>35</td>\n",
       "      <td>Husband</td>\n",
       "      <td>Married</td>\n",
       "      <td>Male</td>\n",
       "      <td>Volunteer coordinator</td>\n",
       "      <td>None</td>\n",
       "      <td>Catholic</td>\n",
       "    </tr>\n",
       "  </tbody>\n",
       "</table>\n",
       "</div>"
      ],
      "text/plain": [
       "     House Number Street First Name Surname  Age  \\\n",
       "9923          108    NaN      Derek  Martin   35   \n",
       "\n",
       "     Relationship to Head of House Marital Status Gender  \\\n",
       "9923                       Husband        Married   Male   \n",
       "\n",
       "                 Occupation Infirmity  Religion  \n",
       "9923  Volunteer coordinator      None  Catholic  "
      ]
     },
     "execution_count": 34,
     "metadata": {},
     "output_type": "execute_result"
    }
   ],
   "source": [
    "census[census[\"Street\"].isna()] #to print out the row having error under street column name"
   ]
  },
  {
   "cell_type": "code",
   "execution_count": 35,
   "id": "084c5ef6",
   "metadata": {},
   "outputs": [],
   "source": [
    "census.loc[[9923],\"Street\"] = [\"Mahogany Shore\"] #using indexing to change the Nan values"
   ]
  },
  {
   "cell_type": "markdown",
   "id": "bf1f4fe2",
   "metadata": {},
   "source": [
    "# Surname"
   ]
  },
  {
   "cell_type": "code",
   "execution_count": 36,
   "id": "4d36f664",
   "metadata": {},
   "outputs": [
    {
     "data": {
      "text/html": [
       "<div>\n",
       "<style scoped>\n",
       "    .dataframe tbody tr th:only-of-type {\n",
       "        vertical-align: middle;\n",
       "    }\n",
       "\n",
       "    .dataframe tbody tr th {\n",
       "        vertical-align: top;\n",
       "    }\n",
       "\n",
       "    .dataframe thead th {\n",
       "        text-align: right;\n",
       "    }\n",
       "</style>\n",
       "<table border=\"1\" class=\"dataframe\">\n",
       "  <thead>\n",
       "    <tr style=\"text-align: right;\">\n",
       "      <th></th>\n",
       "      <th>House Number</th>\n",
       "      <th>Street</th>\n",
       "      <th>First Name</th>\n",
       "      <th>Surname</th>\n",
       "      <th>Age</th>\n",
       "      <th>Relationship to Head of House</th>\n",
       "      <th>Marital Status</th>\n",
       "      <th>Gender</th>\n",
       "      <th>Occupation</th>\n",
       "      <th>Infirmity</th>\n",
       "      <th>Religion</th>\n",
       "    </tr>\n",
       "  </thead>\n",
       "  <tbody>\n",
       "    <tr>\n",
       "      <th>1067</th>\n",
       "      <td>15</td>\n",
       "      <td>Humphreys Circles</td>\n",
       "      <td>Robin</td>\n",
       "      <td>NaN</td>\n",
       "      <td>14</td>\n",
       "      <td>Son</td>\n",
       "      <td>Never Married</td>\n",
       "      <td>Male</td>\n",
       "      <td>Student</td>\n",
       "      <td>None</td>\n",
       "      <td>NaN</td>\n",
       "    </tr>\n",
       "    <tr>\n",
       "      <th>4274</th>\n",
       "      <td>32</td>\n",
       "      <td>Charity Road</td>\n",
       "      <td>Jacqueline</td>\n",
       "      <td>NaN</td>\n",
       "      <td>10</td>\n",
       "      <td>Daughter</td>\n",
       "      <td>Never Married</td>\n",
       "      <td>Female</td>\n",
       "      <td>Student</td>\n",
       "      <td>None</td>\n",
       "      <td>NaN</td>\n",
       "    </tr>\n",
       "    <tr>\n",
       "      <th>6633</th>\n",
       "      <td>52</td>\n",
       "      <td>Testament Street</td>\n",
       "      <td>Colin</td>\n",
       "      <td>NaN</td>\n",
       "      <td>48</td>\n",
       "      <td>Husband</td>\n",
       "      <td>Married</td>\n",
       "      <td>Male</td>\n",
       "      <td>Programmer, applications</td>\n",
       "      <td>None</td>\n",
       "      <td>None</td>\n",
       "    </tr>\n",
       "    <tr>\n",
       "      <th>8542</th>\n",
       "      <td>54</td>\n",
       "      <td>Stevenson Lodge</td>\n",
       "      <td>Kathryn</td>\n",
       "      <td>NaN</td>\n",
       "      <td>16</td>\n",
       "      <td>Daughter</td>\n",
       "      <td>Single</td>\n",
       "      <td>Female</td>\n",
       "      <td>Student</td>\n",
       "      <td>None</td>\n",
       "      <td>NaN</td>\n",
       "    </tr>\n",
       "    <tr>\n",
       "      <th>8653</th>\n",
       "      <td>59</td>\n",
       "      <td>Sharkwash Road</td>\n",
       "      <td>Julian</td>\n",
       "      <td>NaN</td>\n",
       "      <td>70</td>\n",
       "      <td>Head</td>\n",
       "      <td>Widowed</td>\n",
       "      <td>Male</td>\n",
       "      <td>Retired Artist</td>\n",
       "      <td>None</td>\n",
       "      <td>Catholic</td>\n",
       "    </tr>\n",
       "  </tbody>\n",
       "</table>\n",
       "</div>"
      ],
      "text/plain": [
       "     House Number             Street  First Name Surname  Age  \\\n",
       "1067           15  Humphreys Circles       Robin     NaN   14   \n",
       "4274           32       Charity Road  Jacqueline     NaN   10   \n",
       "6633           52   Testament Street       Colin     NaN   48   \n",
       "8542           54    Stevenson Lodge     Kathryn     NaN   16   \n",
       "8653           59     Sharkwash Road      Julian     NaN   70   \n",
       "\n",
       "     Relationship to Head of House Marital Status  Gender  \\\n",
       "1067                           Son  Never Married    Male   \n",
       "4274                      Daughter  Never Married  Female   \n",
       "6633                       Husband        Married    Male   \n",
       "8542                      Daughter         Single  Female   \n",
       "8653                          Head        Widowed    Male   \n",
       "\n",
       "                    Occupation Infirmity  Religion  \n",
       "1067                   Student      None       NaN  \n",
       "4274                   Student      None       NaN  \n",
       "6633  Programmer, applications      None      None  \n",
       "8542                   Student      None       NaN  \n",
       "8653            Retired Artist      None  Catholic  "
      ]
     },
     "execution_count": 36,
     "metadata": {},
     "output_type": "execute_result"
    }
   ],
   "source": [
    "census[census[\"Surname\"].isna()] #returns the rows with null values under surname column"
   ]
  },
  {
   "cell_type": "code",
   "execution_count": 37,
   "id": "17c06f75",
   "metadata": {},
   "outputs": [
    {
     "data": {
      "text/html": [
       "<div>\n",
       "<style scoped>\n",
       "    .dataframe tbody tr th:only-of-type {\n",
       "        vertical-align: middle;\n",
       "    }\n",
       "\n",
       "    .dataframe tbody tr th {\n",
       "        vertical-align: top;\n",
       "    }\n",
       "\n",
       "    .dataframe thead th {\n",
       "        text-align: right;\n",
       "    }\n",
       "</style>\n",
       "<table border=\"1\" class=\"dataframe\">\n",
       "  <thead>\n",
       "    <tr style=\"text-align: right;\">\n",
       "      <th></th>\n",
       "      <th>House Number</th>\n",
       "      <th>Street</th>\n",
       "      <th>First Name</th>\n",
       "      <th>Surname</th>\n",
       "      <th>Age</th>\n",
       "      <th>Relationship to Head of House</th>\n",
       "      <th>Marital Status</th>\n",
       "      <th>Gender</th>\n",
       "      <th>Occupation</th>\n",
       "      <th>Infirmity</th>\n",
       "      <th>Religion</th>\n",
       "    </tr>\n",
       "  </thead>\n",
       "  <tbody>\n",
       "    <tr>\n",
       "      <th>4272</th>\n",
       "      <td>32</td>\n",
       "      <td>Charity Road</td>\n",
       "      <td>Janet</td>\n",
       "      <td>Hall</td>\n",
       "      <td>44</td>\n",
       "      <td>Head</td>\n",
       "      <td>Married</td>\n",
       "      <td>Female</td>\n",
       "      <td>Retail manager</td>\n",
       "      <td>None</td>\n",
       "      <td>None</td>\n",
       "    </tr>\n",
       "    <tr>\n",
       "      <th>4273</th>\n",
       "      <td>32</td>\n",
       "      <td>Charity Road</td>\n",
       "      <td>Carl</td>\n",
       "      <td>Hall</td>\n",
       "      <td>44</td>\n",
       "      <td>Husband</td>\n",
       "      <td>Married</td>\n",
       "      <td>Male</td>\n",
       "      <td>Agricultural engineer</td>\n",
       "      <td>None</td>\n",
       "      <td>None</td>\n",
       "    </tr>\n",
       "    <tr>\n",
       "      <th>4274</th>\n",
       "      <td>32</td>\n",
       "      <td>Charity Road</td>\n",
       "      <td>Jacqueline</td>\n",
       "      <td>NaN</td>\n",
       "      <td>10</td>\n",
       "      <td>Daughter</td>\n",
       "      <td>Never Married</td>\n",
       "      <td>Female</td>\n",
       "      <td>Student</td>\n",
       "      <td>None</td>\n",
       "      <td>NaN</td>\n",
       "    </tr>\n",
       "    <tr>\n",
       "      <th>4275</th>\n",
       "      <td>32</td>\n",
       "      <td>Charity Road</td>\n",
       "      <td>Geoffrey</td>\n",
       "      <td>Daly</td>\n",
       "      <td>9</td>\n",
       "      <td>Son</td>\n",
       "      <td>Never Married</td>\n",
       "      <td>Male</td>\n",
       "      <td>Student</td>\n",
       "      <td>None</td>\n",
       "      <td>NaN</td>\n",
       "    </tr>\n",
       "  </tbody>\n",
       "</table>\n",
       "</div>"
      ],
      "text/plain": [
       "     House Number        Street  First Name Surname  Age  \\\n",
       "4272           32  Charity Road       Janet    Hall   44   \n",
       "4273           32  Charity Road        Carl    Hall   44   \n",
       "4274           32  Charity Road  Jacqueline     NaN   10   \n",
       "4275           32  Charity Road    Geoffrey    Daly    9   \n",
       "\n",
       "     Relationship to Head of House Marital Status  Gender  \\\n",
       "4272                          Head        Married  Female   \n",
       "4273                       Husband        Married    Male   \n",
       "4274                      Daughter  Never Married  Female   \n",
       "4275                           Son  Never Married    Male   \n",
       "\n",
       "                 Occupation Infirmity Religion  \n",
       "4272         Retail manager      None     None  \n",
       "4273  Agricultural engineer      None     None  \n",
       "4274                Student      None      NaN  \n",
       "4275                Student      None      NaN  "
      ]
     },
     "execution_count": 37,
     "metadata": {},
     "output_type": "execute_result"
    }
   ],
   "source": [
    "census[(census[\"House Number\"]== \"32\") & (census[\"Street\"]== \"Charity Road\")] #returns all rows with house number 32 and Charity road"
   ]
  },
  {
   "cell_type": "code",
   "execution_count": 38,
   "id": "87f39c7a",
   "metadata": {},
   "outputs": [],
   "source": [
    "census.loc[4274,\"Surname\"] = [\"Daly\"] #using indexing to change the Null value"
   ]
  },
  {
   "cell_type": "code",
   "execution_count": 39,
   "id": "9f952e43",
   "metadata": {
    "scrolled": true
   },
   "outputs": [
    {
     "data": {
      "text/html": [
       "<div>\n",
       "<style scoped>\n",
       "    .dataframe tbody tr th:only-of-type {\n",
       "        vertical-align: middle;\n",
       "    }\n",
       "\n",
       "    .dataframe tbody tr th {\n",
       "        vertical-align: top;\n",
       "    }\n",
       "\n",
       "    .dataframe thead th {\n",
       "        text-align: right;\n",
       "    }\n",
       "</style>\n",
       "<table border=\"1\" class=\"dataframe\">\n",
       "  <thead>\n",
       "    <tr style=\"text-align: right;\">\n",
       "      <th></th>\n",
       "      <th>House Number</th>\n",
       "      <th>Street</th>\n",
       "      <th>First Name</th>\n",
       "      <th>Surname</th>\n",
       "      <th>Age</th>\n",
       "      <th>Relationship to Head of House</th>\n",
       "      <th>Marital Status</th>\n",
       "      <th>Gender</th>\n",
       "      <th>Occupation</th>\n",
       "      <th>Infirmity</th>\n",
       "      <th>Religion</th>\n",
       "    </tr>\n",
       "  </thead>\n",
       "  <tbody>\n",
       "    <tr>\n",
       "      <th>1065</th>\n",
       "      <td>15</td>\n",
       "      <td>Humphreys Circles</td>\n",
       "      <td>Abigail</td>\n",
       "      <td>Gordon</td>\n",
       "      <td>40</td>\n",
       "      <td>Head</td>\n",
       "      <td>Divorced</td>\n",
       "      <td>Female</td>\n",
       "      <td>Homeopath</td>\n",
       "      <td>None</td>\n",
       "      <td>None</td>\n",
       "    </tr>\n",
       "    <tr>\n",
       "      <th>1066</th>\n",
       "      <td>15</td>\n",
       "      <td>Humphreys Circles</td>\n",
       "      <td>Rachel</td>\n",
       "      <td>Gordon</td>\n",
       "      <td>15</td>\n",
       "      <td>Daughter</td>\n",
       "      <td>Never Married</td>\n",
       "      <td>Female</td>\n",
       "      <td>Student</td>\n",
       "      <td>None</td>\n",
       "      <td>NaN</td>\n",
       "    </tr>\n",
       "    <tr>\n",
       "      <th>1067</th>\n",
       "      <td>15</td>\n",
       "      <td>Humphreys Circles</td>\n",
       "      <td>Robin</td>\n",
       "      <td>NaN</td>\n",
       "      <td>14</td>\n",
       "      <td>Son</td>\n",
       "      <td>Never Married</td>\n",
       "      <td>Male</td>\n",
       "      <td>Student</td>\n",
       "      <td>None</td>\n",
       "      <td>NaN</td>\n",
       "    </tr>\n",
       "    <tr>\n",
       "      <th>1068</th>\n",
       "      <td>15</td>\n",
       "      <td>Humphreys Circles</td>\n",
       "      <td>Glenn</td>\n",
       "      <td>Gordon</td>\n",
       "      <td>8</td>\n",
       "      <td>Son</td>\n",
       "      <td>Never Married</td>\n",
       "      <td>Male</td>\n",
       "      <td>Student</td>\n",
       "      <td>None</td>\n",
       "      <td>NaN</td>\n",
       "    </tr>\n",
       "  </tbody>\n",
       "</table>\n",
       "</div>"
      ],
      "text/plain": [
       "     House Number             Street First Name Surname  Age  \\\n",
       "1065           15  Humphreys Circles    Abigail  Gordon   40   \n",
       "1066           15  Humphreys Circles     Rachel  Gordon   15   \n",
       "1067           15  Humphreys Circles      Robin     NaN   14   \n",
       "1068           15  Humphreys Circles      Glenn  Gordon    8   \n",
       "\n",
       "     Relationship to Head of House Marital Status  Gender Occupation  \\\n",
       "1065                          Head       Divorced  Female  Homeopath   \n",
       "1066                      Daughter  Never Married  Female    Student   \n",
       "1067                           Son  Never Married    Male    Student   \n",
       "1068                           Son  Never Married    Male    Student   \n",
       "\n",
       "     Infirmity Religion  \n",
       "1065      None     None  \n",
       "1066      None      NaN  \n",
       "1067      None      NaN  \n",
       "1068      None      NaN  "
      ]
     },
     "execution_count": 39,
     "metadata": {},
     "output_type": "execute_result"
    }
   ],
   "source": [
    "census[(census[\"Street\"]== \"Humphreys Circles\") & (census[\"House Number\"]==\"15\")]#returns all rows with house number 15 and Humphrreys circles"
   ]
  },
  {
   "cell_type": "code",
   "execution_count": 40,
   "id": "66f64c49",
   "metadata": {},
   "outputs": [],
   "source": [
    "census.loc[[1067],\"Surname\"] = [\"Gordon\"] #Using indexing to change the values under surname to gordon"
   ]
  },
  {
   "cell_type": "code",
   "execution_count": 41,
   "id": "11a14273",
   "metadata": {},
   "outputs": [
    {
     "data": {
      "text/html": [
       "<div>\n",
       "<style scoped>\n",
       "    .dataframe tbody tr th:only-of-type {\n",
       "        vertical-align: middle;\n",
       "    }\n",
       "\n",
       "    .dataframe tbody tr th {\n",
       "        vertical-align: top;\n",
       "    }\n",
       "\n",
       "    .dataframe thead th {\n",
       "        text-align: right;\n",
       "    }\n",
       "</style>\n",
       "<table border=\"1\" class=\"dataframe\">\n",
       "  <thead>\n",
       "    <tr style=\"text-align: right;\">\n",
       "      <th></th>\n",
       "      <th>House Number</th>\n",
       "      <th>Street</th>\n",
       "      <th>First Name</th>\n",
       "      <th>Surname</th>\n",
       "      <th>Age</th>\n",
       "      <th>Relationship to Head of House</th>\n",
       "      <th>Marital Status</th>\n",
       "      <th>Gender</th>\n",
       "      <th>Occupation</th>\n",
       "      <th>Infirmity</th>\n",
       "      <th>Religion</th>\n",
       "    </tr>\n",
       "  </thead>\n",
       "  <tbody>\n",
       "    <tr>\n",
       "      <th>6632</th>\n",
       "      <td>52</td>\n",
       "      <td>Testament Street</td>\n",
       "      <td>Deborah</td>\n",
       "      <td>Patterson</td>\n",
       "      <td>48</td>\n",
       "      <td>Head</td>\n",
       "      <td>Married</td>\n",
       "      <td>Female</td>\n",
       "      <td>Civil engineer, consulting</td>\n",
       "      <td>None</td>\n",
       "      <td>None</td>\n",
       "    </tr>\n",
       "    <tr>\n",
       "      <th>6633</th>\n",
       "      <td>52</td>\n",
       "      <td>Testament Street</td>\n",
       "      <td>Colin</td>\n",
       "      <td>NaN</td>\n",
       "      <td>48</td>\n",
       "      <td>Husband</td>\n",
       "      <td>Married</td>\n",
       "      <td>Male</td>\n",
       "      <td>Programmer, applications</td>\n",
       "      <td>None</td>\n",
       "      <td>None</td>\n",
       "    </tr>\n",
       "    <tr>\n",
       "      <th>6634</th>\n",
       "      <td>52</td>\n",
       "      <td>Testament Street</td>\n",
       "      <td>Richard</td>\n",
       "      <td>Patterson</td>\n",
       "      <td>15</td>\n",
       "      <td>Son</td>\n",
       "      <td>Never Married</td>\n",
       "      <td>Male</td>\n",
       "      <td>Student</td>\n",
       "      <td>None</td>\n",
       "      <td>NaN</td>\n",
       "    </tr>\n",
       "    <tr>\n",
       "      <th>6635</th>\n",
       "      <td>52</td>\n",
       "      <td>Testament Street</td>\n",
       "      <td>Melanie</td>\n",
       "      <td>Patterson</td>\n",
       "      <td>12</td>\n",
       "      <td>Daughter</td>\n",
       "      <td>Never Married</td>\n",
       "      <td>Female</td>\n",
       "      <td>Student</td>\n",
       "      <td>None</td>\n",
       "      <td>NaN</td>\n",
       "    </tr>\n",
       "  </tbody>\n",
       "</table>\n",
       "</div>"
      ],
      "text/plain": [
       "     House Number            Street First Name    Surname  Age  \\\n",
       "6632           52  Testament Street    Deborah  Patterson   48   \n",
       "6633           52  Testament Street      Colin        NaN   48   \n",
       "6634           52  Testament Street    Richard  Patterson   15   \n",
       "6635           52  Testament Street    Melanie  Patterson   12   \n",
       "\n",
       "     Relationship to Head of House Marital Status  Gender  \\\n",
       "6632                          Head        Married  Female   \n",
       "6633                       Husband        Married    Male   \n",
       "6634                           Son  Never Married    Male   \n",
       "6635                      Daughter  Never Married  Female   \n",
       "\n",
       "                      Occupation Infirmity Religion  \n",
       "6632  Civil engineer, consulting      None     None  \n",
       "6633    Programmer, applications      None     None  \n",
       "6634                     Student      None      NaN  \n",
       "6635                     Student      None      NaN  "
      ]
     },
     "execution_count": 41,
     "metadata": {},
     "output_type": "execute_result"
    }
   ],
   "source": [
    "census[(census[\"Street\"]== \"Testament Street\") & (census[\"House Number\"]==\"52\")]#returns all rows with house number 52 and Testament Street"
   ]
  },
  {
   "cell_type": "code",
   "execution_count": 42,
   "id": "07f2ddde",
   "metadata": {},
   "outputs": [],
   "source": [
    "census.loc[[6633],\"Surname\"] = [\"Patterson\"] # to fill in missing surname as patterson"
   ]
  },
  {
   "cell_type": "code",
   "execution_count": 43,
   "id": "1f3b595f",
   "metadata": {},
   "outputs": [
    {
     "data": {
      "text/html": [
       "<div>\n",
       "<style scoped>\n",
       "    .dataframe tbody tr th:only-of-type {\n",
       "        vertical-align: middle;\n",
       "    }\n",
       "\n",
       "    .dataframe tbody tr th {\n",
       "        vertical-align: top;\n",
       "    }\n",
       "\n",
       "    .dataframe thead th {\n",
       "        text-align: right;\n",
       "    }\n",
       "</style>\n",
       "<table border=\"1\" class=\"dataframe\">\n",
       "  <thead>\n",
       "    <tr style=\"text-align: right;\">\n",
       "      <th></th>\n",
       "      <th>House Number</th>\n",
       "      <th>Street</th>\n",
       "      <th>First Name</th>\n",
       "      <th>Surname</th>\n",
       "      <th>Age</th>\n",
       "      <th>Relationship to Head of House</th>\n",
       "      <th>Marital Status</th>\n",
       "      <th>Gender</th>\n",
       "      <th>Occupation</th>\n",
       "      <th>Infirmity</th>\n",
       "      <th>Religion</th>\n",
       "    </tr>\n",
       "  </thead>\n",
       "  <tbody>\n",
       "    <tr>\n",
       "      <th>8539</th>\n",
       "      <td>54</td>\n",
       "      <td>Stevenson Lodge</td>\n",
       "      <td>Pamela</td>\n",
       "      <td>Perry</td>\n",
       "      <td>47</td>\n",
       "      <td>Head</td>\n",
       "      <td>Married</td>\n",
       "      <td>Female</td>\n",
       "      <td>Optometrist</td>\n",
       "      <td>None</td>\n",
       "      <td>None</td>\n",
       "    </tr>\n",
       "    <tr>\n",
       "      <th>8540</th>\n",
       "      <td>54</td>\n",
       "      <td>Stevenson Lodge</td>\n",
       "      <td>Eric</td>\n",
       "      <td>Perry</td>\n",
       "      <td>50</td>\n",
       "      <td>Husband</td>\n",
       "      <td>Married</td>\n",
       "      <td>Male</td>\n",
       "      <td>Cytogeneticist</td>\n",
       "      <td>None</td>\n",
       "      <td>None</td>\n",
       "    </tr>\n",
       "    <tr>\n",
       "      <th>8541</th>\n",
       "      <td>54</td>\n",
       "      <td>Stevenson Lodge</td>\n",
       "      <td>Chloe</td>\n",
       "      <td>Perry</td>\n",
       "      <td>18</td>\n",
       "      <td>Daughter</td>\n",
       "      <td>Single</td>\n",
       "      <td>Female</td>\n",
       "      <td>Student</td>\n",
       "      <td>None</td>\n",
       "      <td>None</td>\n",
       "    </tr>\n",
       "    <tr>\n",
       "      <th>8542</th>\n",
       "      <td>54</td>\n",
       "      <td>Stevenson Lodge</td>\n",
       "      <td>Kathryn</td>\n",
       "      <td>NaN</td>\n",
       "      <td>16</td>\n",
       "      <td>Daughter</td>\n",
       "      <td>Single</td>\n",
       "      <td>Female</td>\n",
       "      <td>Student</td>\n",
       "      <td>None</td>\n",
       "      <td>NaN</td>\n",
       "    </tr>\n",
       "  </tbody>\n",
       "</table>\n",
       "</div>"
      ],
      "text/plain": [
       "     House Number           Street First Name Surname  Age  \\\n",
       "8539           54  Stevenson Lodge     Pamela   Perry   47   \n",
       "8540           54  Stevenson Lodge       Eric   Perry   50   \n",
       "8541           54  Stevenson Lodge      Chloe   Perry   18   \n",
       "8542           54  Stevenson Lodge    Kathryn     NaN   16   \n",
       "\n",
       "     Relationship to Head of House Marital Status  Gender      Occupation  \\\n",
       "8539                          Head        Married  Female     Optometrist   \n",
       "8540                       Husband        Married    Male  Cytogeneticist   \n",
       "8541                      Daughter         Single  Female         Student   \n",
       "8542                      Daughter         Single  Female         Student   \n",
       "\n",
       "     Infirmity Religion  \n",
       "8539      None     None  \n",
       "8540      None     None  \n",
       "8541      None     None  \n",
       "8542      None      NaN  "
      ]
     },
     "execution_count": 43,
     "metadata": {},
     "output_type": "execute_result"
    }
   ],
   "source": [
    "census[(census[\"Street\"]== \"Stevenson Lodge\") & (census[\"House Number\"]==\"54\")]#returns all rows with house number 54 and Stevenson lodge"
   ]
  },
  {
   "cell_type": "code",
   "execution_count": 44,
   "id": "85752f04",
   "metadata": {},
   "outputs": [],
   "source": [
    "census.loc[[8542],\"Surname\"] = [\"Perry\"] # to fill in missing surname for Kathryn"
   ]
  },
  {
   "cell_type": "code",
   "execution_count": 45,
   "id": "11a2c340",
   "metadata": {},
   "outputs": [
    {
     "data": {
      "text/html": [
       "<div>\n",
       "<style scoped>\n",
       "    .dataframe tbody tr th:only-of-type {\n",
       "        vertical-align: middle;\n",
       "    }\n",
       "\n",
       "    .dataframe tbody tr th {\n",
       "        vertical-align: top;\n",
       "    }\n",
       "\n",
       "    .dataframe thead th {\n",
       "        text-align: right;\n",
       "    }\n",
       "</style>\n",
       "<table border=\"1\" class=\"dataframe\">\n",
       "  <thead>\n",
       "    <tr style=\"text-align: right;\">\n",
       "      <th></th>\n",
       "      <th>House Number</th>\n",
       "      <th>Street</th>\n",
       "      <th>First Name</th>\n",
       "      <th>Surname</th>\n",
       "      <th>Age</th>\n",
       "      <th>Relationship to Head of House</th>\n",
       "      <th>Marital Status</th>\n",
       "      <th>Gender</th>\n",
       "      <th>Occupation</th>\n",
       "      <th>Infirmity</th>\n",
       "      <th>Religion</th>\n",
       "    </tr>\n",
       "  </thead>\n",
       "  <tbody>\n",
       "    <tr>\n",
       "      <th>8653</th>\n",
       "      <td>59</td>\n",
       "      <td>Sharkwash Road</td>\n",
       "      <td>Julian</td>\n",
       "      <td>NaN</td>\n",
       "      <td>70</td>\n",
       "      <td>Head</td>\n",
       "      <td>Widowed</td>\n",
       "      <td>Male</td>\n",
       "      <td>Retired Artist</td>\n",
       "      <td>None</td>\n",
       "      <td>Catholic</td>\n",
       "    </tr>\n",
       "  </tbody>\n",
       "</table>\n",
       "</div>"
      ],
      "text/plain": [
       "     House Number          Street First Name Surname  Age  \\\n",
       "8653           59  Sharkwash Road     Julian     NaN   70   \n",
       "\n",
       "     Relationship to Head of House Marital Status Gender      Occupation  \\\n",
       "8653                          Head        Widowed   Male  Retired Artist   \n",
       "\n",
       "     Infirmity  Religion  \n",
       "8653      None  Catholic  "
      ]
     },
     "execution_count": 45,
     "metadata": {},
     "output_type": "execute_result"
    }
   ],
   "source": [
    "census[(census[\"Street\"]== \"Sharkwash Road\") & (census[\"House Number\"]==\"59\")]#returns all rows with house number 59 and Sharkwash Road"
   ]
  },
  {
   "cell_type": "code",
   "execution_count": 46,
   "id": "b5a100fc",
   "metadata": {},
   "outputs": [],
   "source": [
    "census.loc[8653, \"Surname\"]= \"Unknown\" #to assign unknown to missing  data"
   ]
  },
  {
   "cell_type": "markdown",
   "id": "73193596",
   "metadata": {},
   "source": [
    "# First Name"
   ]
  },
  {
   "cell_type": "code",
   "execution_count": 47,
   "id": "468957f8",
   "metadata": {},
   "outputs": [
    {
     "data": {
      "text/html": [
       "<div>\n",
       "<style scoped>\n",
       "    .dataframe tbody tr th:only-of-type {\n",
       "        vertical-align: middle;\n",
       "    }\n",
       "\n",
       "    .dataframe tbody tr th {\n",
       "        vertical-align: top;\n",
       "    }\n",
       "\n",
       "    .dataframe thead th {\n",
       "        text-align: right;\n",
       "    }\n",
       "</style>\n",
       "<table border=\"1\" class=\"dataframe\">\n",
       "  <thead>\n",
       "    <tr style=\"text-align: right;\">\n",
       "      <th></th>\n",
       "      <th>House Number</th>\n",
       "      <th>Street</th>\n",
       "      <th>First Name</th>\n",
       "      <th>Surname</th>\n",
       "      <th>Age</th>\n",
       "      <th>Relationship to Head of House</th>\n",
       "      <th>Marital Status</th>\n",
       "      <th>Gender</th>\n",
       "      <th>Occupation</th>\n",
       "      <th>Infirmity</th>\n",
       "      <th>Religion</th>\n",
       "    </tr>\n",
       "  </thead>\n",
       "  <tbody>\n",
       "    <tr>\n",
       "      <th>5706</th>\n",
       "      <td>16</td>\n",
       "      <td>White Way</td>\n",
       "      <td>NaN</td>\n",
       "      <td>Charlotte Harris</td>\n",
       "      <td>30</td>\n",
       "      <td>Daughter</td>\n",
       "      <td>Divorced</td>\n",
       "      <td>Female</td>\n",
       "      <td>Acupuncturist</td>\n",
       "      <td>None</td>\n",
       "      <td>Christian</td>\n",
       "    </tr>\n",
       "    <tr>\n",
       "      <th>6976</th>\n",
       "      <td>2</td>\n",
       "      <td>Kemp Club</td>\n",
       "      <td>NaN</td>\n",
       "      <td>Turner</td>\n",
       "      <td>68</td>\n",
       "      <td>Head</td>\n",
       "      <td>Married</td>\n",
       "      <td>Male</td>\n",
       "      <td>Retired Public relations officer</td>\n",
       "      <td>None</td>\n",
       "      <td>Christian</td>\n",
       "    </tr>\n",
       "  </tbody>\n",
       "</table>\n",
       "</div>"
      ],
      "text/plain": [
       "     House Number     Street First Name           Surname  Age  \\\n",
       "5706           16  White Way        NaN  Charlotte Harris   30   \n",
       "6976            2  Kemp Club        NaN            Turner   68   \n",
       "\n",
       "     Relationship to Head of House Marital Status  Gender  \\\n",
       "5706                      Daughter       Divorced  Female   \n",
       "6976                          Head        Married    Male   \n",
       "\n",
       "                            Occupation Infirmity   Religion  \n",
       "5706                     Acupuncturist      None  Christian  \n",
       "6976  Retired Public relations officer      None  Christian  "
      ]
     },
     "execution_count": 47,
     "metadata": {},
     "output_type": "execute_result"
    }
   ],
   "source": [
    "census[census[\"First Name\"].isnull()] #gives all the null values under First name column"
   ]
  },
  {
   "cell_type": "code",
   "execution_count": 48,
   "id": "781f02c4",
   "metadata": {},
   "outputs": [
    {
     "data": {
      "text/html": [
       "<div>\n",
       "<style scoped>\n",
       "    .dataframe tbody tr th:only-of-type {\n",
       "        vertical-align: middle;\n",
       "    }\n",
       "\n",
       "    .dataframe tbody tr th {\n",
       "        vertical-align: top;\n",
       "    }\n",
       "\n",
       "    .dataframe thead th {\n",
       "        text-align: right;\n",
       "    }\n",
       "</style>\n",
       "<table border=\"1\" class=\"dataframe\">\n",
       "  <thead>\n",
       "    <tr style=\"text-align: right;\">\n",
       "      <th></th>\n",
       "      <th>House Number</th>\n",
       "      <th>Street</th>\n",
       "      <th>First Name</th>\n",
       "      <th>Surname</th>\n",
       "      <th>Age</th>\n",
       "      <th>Relationship to Head of House</th>\n",
       "      <th>Marital Status</th>\n",
       "      <th>Gender</th>\n",
       "      <th>Occupation</th>\n",
       "      <th>Infirmity</th>\n",
       "      <th>Religion</th>\n",
       "    </tr>\n",
       "  </thead>\n",
       "  <tbody>\n",
       "    <tr>\n",
       "      <th>5704</th>\n",
       "      <td>16</td>\n",
       "      <td>White Way</td>\n",
       "      <td>Samantha</td>\n",
       "      <td>Harris</td>\n",
       "      <td>50</td>\n",
       "      <td>Head</td>\n",
       "      <td>Married</td>\n",
       "      <td>Female</td>\n",
       "      <td>Surveyor, mining</td>\n",
       "      <td>None</td>\n",
       "      <td>Christian</td>\n",
       "    </tr>\n",
       "    <tr>\n",
       "      <th>5705</th>\n",
       "      <td>16</td>\n",
       "      <td>White Way</td>\n",
       "      <td>Billy</td>\n",
       "      <td>Harris</td>\n",
       "      <td>55</td>\n",
       "      <td>Husband</td>\n",
       "      <td>Married</td>\n",
       "      <td>Male</td>\n",
       "      <td>Museum education officer</td>\n",
       "      <td>None</td>\n",
       "      <td>Christian</td>\n",
       "    </tr>\n",
       "    <tr>\n",
       "      <th>5706</th>\n",
       "      <td>16</td>\n",
       "      <td>White Way</td>\n",
       "      <td>NaN</td>\n",
       "      <td>Charlotte Harris</td>\n",
       "      <td>30</td>\n",
       "      <td>Daughter</td>\n",
       "      <td>Divorced</td>\n",
       "      <td>Female</td>\n",
       "      <td>Acupuncturist</td>\n",
       "      <td>None</td>\n",
       "      <td>Christian</td>\n",
       "    </tr>\n",
       "  </tbody>\n",
       "</table>\n",
       "</div>"
      ],
      "text/plain": [
       "     House Number     Street First Name           Surname  Age  \\\n",
       "5704           16  White Way   Samantha            Harris   50   \n",
       "5705           16  White Way      Billy            Harris   55   \n",
       "5706           16  White Way        NaN  Charlotte Harris   30   \n",
       "\n",
       "     Relationship to Head of House Marital Status  Gender  \\\n",
       "5704                          Head        Married  Female   \n",
       "5705                       Husband        Married    Male   \n",
       "5706                      Daughter       Divorced  Female   \n",
       "\n",
       "                    Occupation Infirmity   Religion  \n",
       "5704          Surveyor, mining      None  Christian  \n",
       "5705  Museum education officer      None  Christian  \n",
       "5706             Acupuncturist      None  Christian  "
      ]
     },
     "execution_count": 48,
     "metadata": {},
     "output_type": "execute_result"
    }
   ],
   "source": [
    "census[(census[\"Street\"]== \"White Way\") & (census[\"House Number\"]==\"16\")]#returns all rows with house number 16 and White way"
   ]
  },
  {
   "cell_type": "code",
   "execution_count": 49,
   "id": "f9d7e269",
   "metadata": {},
   "outputs": [],
   "source": [
    "#using row indexing to correct  First name and surname\n",
    "census.loc[5706,\"First Name\"]=\"Charlotte\"\n",
    "census.loc[5706,\"Surname\"]=\"Harris\""
   ]
  },
  {
   "cell_type": "code",
   "execution_count": 50,
   "id": "2f8773fa",
   "metadata": {},
   "outputs": [],
   "source": [
    "census.loc[6976, \"First Name\"]= \"Unknown\" #to assign unknown to missing First name data"
   ]
  },
  {
   "cell_type": "markdown",
   "id": "7458e714",
   "metadata": {},
   "source": [
    "# Occupation"
   ]
  },
  {
   "cell_type": "code",
   "execution_count": 51,
   "id": "9a707b1f",
   "metadata": {},
   "outputs": [
    {
     "data": {
      "text/html": [
       "<div>\n",
       "<style scoped>\n",
       "    .dataframe tbody tr th:only-of-type {\n",
       "        vertical-align: middle;\n",
       "    }\n",
       "\n",
       "    .dataframe tbody tr th {\n",
       "        vertical-align: top;\n",
       "    }\n",
       "\n",
       "    .dataframe thead th {\n",
       "        text-align: right;\n",
       "    }\n",
       "</style>\n",
       "<table border=\"1\" class=\"dataframe\">\n",
       "  <thead>\n",
       "    <tr style=\"text-align: right;\">\n",
       "      <th></th>\n",
       "      <th>House Number</th>\n",
       "      <th>Street</th>\n",
       "      <th>First Name</th>\n",
       "      <th>Surname</th>\n",
       "      <th>Age</th>\n",
       "      <th>Relationship to Head of House</th>\n",
       "      <th>Marital Status</th>\n",
       "      <th>Gender</th>\n",
       "      <th>Occupation</th>\n",
       "      <th>Infirmity</th>\n",
       "      <th>Religion</th>\n",
       "    </tr>\n",
       "  </thead>\n",
       "  <tbody>\n",
       "    <tr>\n",
       "      <th>7825</th>\n",
       "      <td>38</td>\n",
       "      <td>Panther Street</td>\n",
       "      <td>Jane</td>\n",
       "      <td>Hill</td>\n",
       "      <td>26</td>\n",
       "      <td>Daughter</td>\n",
       "      <td>Single</td>\n",
       "      <td>Female</td>\n",
       "      <td>NaN</td>\n",
       "      <td>None</td>\n",
       "      <td>Christian</td>\n",
       "    </tr>\n",
       "  </tbody>\n",
       "</table>\n",
       "</div>"
      ],
      "text/plain": [
       "     House Number          Street First Name Surname  Age  \\\n",
       "7825           38  Panther Street       Jane    Hill   26   \n",
       "\n",
       "     Relationship to Head of House Marital Status  Gender Occupation  \\\n",
       "7825                      Daughter         Single  Female        NaN   \n",
       "\n",
       "     Infirmity   Religion  \n",
       "7825      None  Christian  "
      ]
     },
     "execution_count": 51,
     "metadata": {},
     "output_type": "execute_result"
    }
   ],
   "source": [
    "census[census[\"Occupation\"].isnull()] #calling the null values under occupation"
   ]
  },
  {
   "cell_type": "code",
   "execution_count": 52,
   "id": "14ac37ec",
   "metadata": {},
   "outputs": [],
   "source": [
    "#assigning Unemployed to the missing value\n",
    "census.loc[7825,\"Occupation\"]=\"Unemployed\""
   ]
  },
  {
   "cell_type": "code",
   "execution_count": 53,
   "id": "42104462",
   "metadata": {},
   "outputs": [],
   "source": [
    "#to change those above the retirement age listed as unemployed to retired\n",
    "census.loc[(census.Age>70) & (census.Occupation==\"Unemployed\"), \"Occupation\"] = \"Retired\"\n"
   ]
  },
  {
   "cell_type": "markdown",
   "id": "fdcee82f",
   "metadata": {},
   "source": [
    "# Infirmity"
   ]
  },
  {
   "cell_type": "code",
   "execution_count": 54,
   "id": "791ba455",
   "metadata": {
    "scrolled": true
   },
   "outputs": [
    {
     "data": {
      "text/html": [
       "<div>\n",
       "<style scoped>\n",
       "    .dataframe tbody tr th:only-of-type {\n",
       "        vertical-align: middle;\n",
       "    }\n",
       "\n",
       "    .dataframe tbody tr th {\n",
       "        vertical-align: top;\n",
       "    }\n",
       "\n",
       "    .dataframe thead th {\n",
       "        text-align: right;\n",
       "    }\n",
       "</style>\n",
       "<table border=\"1\" class=\"dataframe\">\n",
       "  <thead>\n",
       "    <tr style=\"text-align: right;\">\n",
       "      <th></th>\n",
       "      <th>House Number</th>\n",
       "      <th>Street</th>\n",
       "      <th>First Name</th>\n",
       "      <th>Surname</th>\n",
       "      <th>Age</th>\n",
       "      <th>Relationship to Head of House</th>\n",
       "      <th>Marital Status</th>\n",
       "      <th>Gender</th>\n",
       "      <th>Occupation</th>\n",
       "      <th>Infirmity</th>\n",
       "      <th>Religion</th>\n",
       "    </tr>\n",
       "  </thead>\n",
       "  <tbody>\n",
       "    <tr>\n",
       "      <th>392</th>\n",
       "      <td>7</td>\n",
       "      <td>Hope Trace</td>\n",
       "      <td>Howard</td>\n",
       "      <td>Bell</td>\n",
       "      <td>3</td>\n",
       "      <td>Son</td>\n",
       "      <td>Never Married</td>\n",
       "      <td>Male</td>\n",
       "      <td>Child</td>\n",
       "      <td>NaN</td>\n",
       "      <td>NaN</td>\n",
       "    </tr>\n",
       "    <tr>\n",
       "      <th>2354</th>\n",
       "      <td>10</td>\n",
       "      <td>Windsor Drive</td>\n",
       "      <td>Gemma</td>\n",
       "      <td>Price</td>\n",
       "      <td>36</td>\n",
       "      <td>None</td>\n",
       "      <td>Single</td>\n",
       "      <td>Female</td>\n",
       "      <td>Physiological scientist</td>\n",
       "      <td>NaN</td>\n",
       "      <td>Catholic</td>\n",
       "    </tr>\n",
       "    <tr>\n",
       "      <th>3082</th>\n",
       "      <td>44</td>\n",
       "      <td>Smith Ville</td>\n",
       "      <td>June</td>\n",
       "      <td>Clark</td>\n",
       "      <td>53</td>\n",
       "      <td>Wife</td>\n",
       "      <td>Married</td>\n",
       "      <td>Female</td>\n",
       "      <td>Printmaker</td>\n",
       "      <td>NaN</td>\n",
       "      <td>Christian</td>\n",
       "    </tr>\n",
       "    <tr>\n",
       "      <th>4319</th>\n",
       "      <td>47</td>\n",
       "      <td>Charity Road</td>\n",
       "      <td>Victoria</td>\n",
       "      <td>James</td>\n",
       "      <td>81</td>\n",
       "      <td>Wife</td>\n",
       "      <td>Married</td>\n",
       "      <td>Female</td>\n",
       "      <td>Retired Charity fundraiser</td>\n",
       "      <td>NaN</td>\n",
       "      <td>Catholic</td>\n",
       "    </tr>\n",
       "    <tr>\n",
       "      <th>5229</th>\n",
       "      <td>92</td>\n",
       "      <td>Oyster Valley</td>\n",
       "      <td>Eric</td>\n",
       "      <td>Murray</td>\n",
       "      <td>62</td>\n",
       "      <td>None</td>\n",
       "      <td>Single</td>\n",
       "      <td>Male</td>\n",
       "      <td>Radiographer, diagnostic</td>\n",
       "      <td>NaN</td>\n",
       "      <td>Christian</td>\n",
       "    </tr>\n",
       "    <tr>\n",
       "      <th>6267</th>\n",
       "      <td>14</td>\n",
       "      <td>Bryant Drive</td>\n",
       "      <td>Victoria</td>\n",
       "      <td>Edwards</td>\n",
       "      <td>52</td>\n",
       "      <td>Adopted Daughter</td>\n",
       "      <td>Divorced</td>\n",
       "      <td>Female</td>\n",
       "      <td>Scientist, water quality</td>\n",
       "      <td>NaN</td>\n",
       "      <td>None</td>\n",
       "    </tr>\n",
       "    <tr>\n",
       "      <th>6777</th>\n",
       "      <td>59</td>\n",
       "      <td>CherryChestnut Parkway</td>\n",
       "      <td>Maurice</td>\n",
       "      <td>Lawrence</td>\n",
       "      <td>52</td>\n",
       "      <td>Husband</td>\n",
       "      <td>Married</td>\n",
       "      <td>Male</td>\n",
       "      <td>Chemist, analytical</td>\n",
       "      <td>NaN</td>\n",
       "      <td>Catholic</td>\n",
       "    </tr>\n",
       "    <tr>\n",
       "      <th>8122</th>\n",
       "      <td>42</td>\n",
       "      <td>Candlestick Locks</td>\n",
       "      <td>Shaun</td>\n",
       "      <td>O'Sullivan</td>\n",
       "      <td>20</td>\n",
       "      <td>None</td>\n",
       "      <td>Single</td>\n",
       "      <td>Male</td>\n",
       "      <td>University Student</td>\n",
       "      <td>NaN</td>\n",
       "      <td>None</td>\n",
       "    </tr>\n",
       "    <tr>\n",
       "      <th>9848</th>\n",
       "      <td>81</td>\n",
       "      <td>Mahogany Shore</td>\n",
       "      <td>Amber</td>\n",
       "      <td>Cooper</td>\n",
       "      <td>58</td>\n",
       "      <td>Head</td>\n",
       "      <td>Single</td>\n",
       "      <td>Female</td>\n",
       "      <td>Teacher, early years/pre</td>\n",
       "      <td>NaN</td>\n",
       "      <td>Methodist</td>\n",
       "    </tr>\n",
       "  </tbody>\n",
       "</table>\n",
       "</div>"
      ],
      "text/plain": [
       "     House Number                  Street First Name     Surname  Age  \\\n",
       "392             7              Hope Trace     Howard        Bell    3   \n",
       "2354           10           Windsor Drive      Gemma       Price   36   \n",
       "3082           44             Smith Ville       June       Clark   53   \n",
       "4319           47            Charity Road   Victoria       James   81   \n",
       "5229           92           Oyster Valley       Eric      Murray   62   \n",
       "6267           14            Bryant Drive   Victoria     Edwards   52   \n",
       "6777           59  CherryChestnut Parkway    Maurice    Lawrence   52   \n",
       "8122           42       Candlestick Locks      Shaun  O'Sullivan   20   \n",
       "9848           81          Mahogany Shore      Amber      Cooper   58   \n",
       "\n",
       "     Relationship to Head of House Marital Status  Gender  \\\n",
       "392                            Son  Never Married    Male   \n",
       "2354                          None         Single  Female   \n",
       "3082                          Wife        Married  Female   \n",
       "4319                          Wife        Married  Female   \n",
       "5229                          None         Single    Male   \n",
       "6267              Adopted Daughter       Divorced  Female   \n",
       "6777                       Husband        Married    Male   \n",
       "8122                          None         Single    Male   \n",
       "9848                          Head         Single  Female   \n",
       "\n",
       "                      Occupation Infirmity   Religion  \n",
       "392                        Child       NaN        NaN  \n",
       "2354     Physiological scientist       NaN   Catholic  \n",
       "3082                  Printmaker       NaN  Christian  \n",
       "4319  Retired Charity fundraiser       NaN   Catholic  \n",
       "5229    Radiographer, diagnostic       NaN  Christian  \n",
       "6267    Scientist, water quality       NaN       None  \n",
       "6777         Chemist, analytical       NaN   Catholic  \n",
       "8122          University Student       NaN       None  \n",
       "9848    Teacher, early years/pre       NaN  Methodist  "
      ]
     },
     "execution_count": 54,
     "metadata": {},
     "output_type": "execute_result"
    }
   ],
   "source": [
    "census[census[\"Infirmity\"].isnull()] # calling the null values under infirmity column"
   ]
  },
  {
   "cell_type": "code",
   "execution_count": 55,
   "id": "e1b12144",
   "metadata": {},
   "outputs": [],
   "source": [
    "census[\"Infirmity\"].replace({np.nan:\"None\",\"Female\":\"None\"}, inplace= True) #replacing the null values with \"None\""
   ]
  },
  {
   "cell_type": "markdown",
   "id": "3d65ba9c",
   "metadata": {},
   "source": [
    "# Religion\n",
    "1. All people below 18 years has null values for religion and were assigned None vale as there was no way to confirm transmission of religion from parents to children.\n",
    "\n",
    "2. Those above 18 Years with null values were also converted to None,\n",
    "3. Religions with few adherence were also concerted to \"None\"\n",
    "4. Erroneous entries were converted to none value"
   ]
  },
  {
   "cell_type": "code",
   "execution_count": 56,
   "id": "6156f0f2",
   "metadata": {},
   "outputs": [
    {
     "data": {
      "text/plain": [
       "2826"
      ]
     },
     "execution_count": 56,
     "metadata": {},
     "output_type": "execute_result"
    }
   ],
   "source": [
    "census[\"Religion\"].isnull().sum() # to ge the totla number of null values"
   ]
  },
  {
   "cell_type": "code",
   "execution_count": 57,
   "id": "1fad787b",
   "metadata": {
    "scrolled": true
   },
   "outputs": [
    {
     "data": {
      "text/plain": [
       "array(['Methodist', nan, 'Christian', 'None', 'Sikh', 'Catholic',\n",
       "       'Muslim', 'Jewish', 'Agnostic', 'Hindu', 'Undecided', 'Buddist',\n",
       "       'Nope', 'Female', 'Pagan', 'Jedi'], dtype=object)"
      ]
     },
     "execution_count": 57,
     "metadata": {},
     "output_type": "execute_result"
    }
   ],
   "source": [
    "census[\"Religion\"].unique()# to get all unique entries in the religion column"
   ]
  },
  {
   "cell_type": "code",
   "execution_count": 58,
   "id": "f709ce76",
   "metadata": {},
   "outputs": [],
   "source": [
    "#to convert all the null entries, erroneous entries,and few adherence to none\n",
    "values_to_replace1= {np.nan:\"None\",\"Undecided\":\"None\",\"Female\":\"None\",\"Jedi\":\"None\",\"Pagan\":\"None\",\"Agnostic\":\"None\", \"Hindu\":\"None\", \"Buddist\":\"None\", \"Sikh\":\"None\",\"Jewish\":\"None\",\"Nope\":\"None\"}\n",
    "census[\"Religion\"].replace(values_to_replace1, inplace=True)"
   ]
  },
  {
   "cell_type": "code",
   "execution_count": 60,
   "id": "9be181af",
   "metadata": {},
   "outputs": [],
   "source": [
    "#my_report = sv.analyze(census)\n",
    "#my_report.show_html() # Default arguments will generate to \"SWEETVIZ_REPORT.html\""
   ]
  },
  {
   "cell_type": "code",
   "execution_count": 61,
   "id": "9e8dc51e",
   "metadata": {},
   "outputs": [
    {
     "data": {
      "text/html": [
       "<div>\n",
       "<style scoped>\n",
       "    .dataframe tbody tr th:only-of-type {\n",
       "        vertical-align: middle;\n",
       "    }\n",
       "\n",
       "    .dataframe tbody tr th {\n",
       "        vertical-align: top;\n",
       "    }\n",
       "\n",
       "    .dataframe thead th {\n",
       "        text-align: right;\n",
       "    }\n",
       "</style>\n",
       "<table border=\"1\" class=\"dataframe\">\n",
       "  <thead>\n",
       "    <tr style=\"text-align: right;\">\n",
       "      <th></th>\n",
       "      <th>Age</th>\n",
       "      <th>AgeGroup</th>\n",
       "    </tr>\n",
       "  </thead>\n",
       "  <tbody>\n",
       "    <tr>\n",
       "      <th>0</th>\n",
       "      <td>29</td>\n",
       "      <td>25-29</td>\n",
       "    </tr>\n",
       "    <tr>\n",
       "      <th>1</th>\n",
       "      <td>31</td>\n",
       "      <td>30-34</td>\n",
       "    </tr>\n",
       "    <tr>\n",
       "      <th>2</th>\n",
       "      <td>6</td>\n",
       "      <td>5-9</td>\n",
       "    </tr>\n",
       "    <tr>\n",
       "      <th>3</th>\n",
       "      <td>3</td>\n",
       "      <td>0-4</td>\n",
       "    </tr>\n",
       "    <tr>\n",
       "      <th>4</th>\n",
       "      <td>81</td>\n",
       "      <td>80-84</td>\n",
       "    </tr>\n",
       "    <tr>\n",
       "      <th>...</th>\n",
       "      <td>...</td>\n",
       "      <td>...</td>\n",
       "    </tr>\n",
       "    <tr>\n",
       "      <th>11113</th>\n",
       "      <td>12</td>\n",
       "      <td>10-14</td>\n",
       "    </tr>\n",
       "    <tr>\n",
       "      <th>11114</th>\n",
       "      <td>8</td>\n",
       "      <td>5-9</td>\n",
       "    </tr>\n",
       "    <tr>\n",
       "      <th>11115</th>\n",
       "      <td>1</td>\n",
       "      <td>0-4</td>\n",
       "    </tr>\n",
       "    <tr>\n",
       "      <th>11116</th>\n",
       "      <td>54</td>\n",
       "      <td>50-54</td>\n",
       "    </tr>\n",
       "    <tr>\n",
       "      <th>11117</th>\n",
       "      <td>56</td>\n",
       "      <td>55-59</td>\n",
       "    </tr>\n",
       "  </tbody>\n",
       "</table>\n",
       "<p>11118 rows × 2 columns</p>\n",
       "</div>"
      ],
      "text/plain": [
       "       Age AgeGroup\n",
       "0       29    25-29\n",
       "1       31    30-34\n",
       "2        6      5-9\n",
       "3        3      0-4\n",
       "4       81    80-84\n",
       "...    ...      ...\n",
       "11113   12    10-14\n",
       "11114    8      5-9\n",
       "11115    1      0-4\n",
       "11116   54    50-54\n",
       "11117   56    55-59\n",
       "\n",
       "[11118 rows x 2 columns]"
      ]
     },
     "execution_count": 61,
     "metadata": {},
     "output_type": "execute_result"
    }
   ],
   "source": [
    "#https://newbedev.com/python-new-column-with-age-group-pandas-code-example\n",
    "#to create and Agegroup for the ages\n",
    "age=census[\"Age\"].tolist()#converting dataframe to a list\n",
    "census_agegroup= pd.DataFrame({\"Age\":age})\n",
    "bins= [0,5,10,15,20,25,30,35,40,45,50,55,60,65,70,75,80,85,90,95,100,101]\n",
    "labels = [\"0-4\",\"5-9\",\"10-14\",\"15-19\",\"20-24\",\"25-29\",\"30-34\",\"35-39\",\"40-44\",\"45-49\",\"50-54\",\"55-59\",\"60-64\",\"65-69\",\"70-74\",\"75-79\",\"80-84\",\"85-89\",\"90-94\",\"95-99\",\"100+\"]\n",
    "census_agegroup['AgeGroup'] = pd.cut(census_agegroup['Age'], bins=bins, labels=labels, right=False) #to segment and sort the data into bins\n",
    "census_agegroup[\"AgeGroup\"].astype(\"object\") #to convert the categorical type to object type\n",
    "census_agegroup"
   ]
  },
  {
   "cell_type": "markdown",
   "id": "85c97346",
   "metadata": {},
   "source": [
    "#### To Create a column for employment"
   ]
  },
  {
   "cell_type": "code",
   "execution_count": 62,
   "id": "f61feae6",
   "metadata": {},
   "outputs": [],
   "source": [
    "Employment=[]\n",
    "\n",
    "#for loop to check the various entries in occupation column and classify them as retired,Student(child),Student,\n",
    "#Employed, unemployed and assigns them to the empty Employment list.\n",
    "\n",
    "for x in census[\"Occupation\"]:\n",
    "    if x[0:7]==\"Retired\":\n",
    "        Employment.append(\"Retired\")\n",
    "    elif x==\"Student\" or x == \"Child\":\n",
    "        Employment.append(\"Student(Child)\")\n",
    "    elif x==\"University Student\" or x == \"PhD Student\":\n",
    "        Employment.append(\"Student\")\n",
    "    elif x==\"Unemployed\":\n",
    "        Employment.append(\"Unemployed\")\n",
    "    else:\n",
    "        Employment.append(\"Employed\")\n",
    "Employment = {\"Employment\":Employment} # creating a key and value for employment using the string and list \n",
    "\n",
    "census_employment = pd.DataFrame(Employment) #creating a dataframe for employment \n",
    "\n",
    "census=pd.concat([census, census_agegroup[\"AgeGroup\"],census_employment],axis=1) #adding the new dataframe column column to existing census dataalong the columns"
   ]
  },
  {
   "cell_type": "markdown",
   "id": "01b05ce4",
   "metadata": {},
   "source": [
    "# Exploratory Data Analysis and visualizations"
   ]
  },
  {
   "cell_type": "code",
   "execution_count": 63,
   "id": "f2779b7c",
   "metadata": {},
   "outputs": [],
   "source": [
    "sns.set_style(\"darkgrid\") #to set the style of the background for graphs to grid with dark color"
   ]
  },
  {
   "cell_type": "code",
   "execution_count": 64,
   "id": "7d607b5c",
   "metadata": {},
   "outputs": [
    {
     "data": {
      "text/plain": [
       "Text(0.5, 1.0, 'Plot Showing Age Distribution of Males and Females')"
      ]
     },
     "execution_count": 64,
     "metadata": {},
     "output_type": "execute_result"
    },
    {
     "data": {
      "image/png": "[encoded data removed]",
      "text/plain": [
       "<Figure size 432x288 with 1 Axes>"
      ]
     },
     "metadata": {},
     "output_type": "display_data"
    }
   ],
   "source": [
    "sns.histplot(census, x=\"Age\", binwidth=4, hue=\"Gender\")\n",
    "plt.title(\"Plot Showing Age Distribution of Males and Females\")"
   ]
  },
  {
   "cell_type": "code",
   "execution_count": 65,
   "id": "d57bb2af",
   "metadata": {},
   "outputs": [],
   "source": [
    "Male_Ages= census[census[\"Gender\"]==\"Male\"] #creating a table for male only\n",
    "Female_Ages= census[census[\"Gender\"]==\"Female\"] #creating a table for female only"
   ]
  },
  {
   "cell_type": "code",
   "execution_count": 66,
   "id": "d7a1cddd",
   "metadata": {},
   "outputs": [
    {
     "data": {
      "text/plain": [
       "Text(0.5, 1.0, 'Plot Showing Distribution of the Male Ages')"
      ]
     },
     "execution_count": 66,
     "metadata": {},
     "output_type": "execute_result"
    },
    {
     "data": {
      "image/png": "[encoded data removed]",
      "text/plain": [
       "<Figure size 432x288 with 1 Axes>"
      ]
     },
     "metadata": {},
     "output_type": "display_data"
    }
   ],
   "source": [
    "#Plot for Male ages\n",
    "sns.histplot(Male_Ages, x=\"Age\", binwidth=4, hue=\"Employment\")\n",
    "plt.title(\"Plot Showing Distribution of the Male Ages\")\n"
   ]
  },
  {
   "cell_type": "code",
   "execution_count": 67,
   "id": "cd023136",
   "metadata": {},
   "outputs": [
    {
     "data": {
      "text/plain": [
       "Text(0.5, 1.0, 'Plot Showing Distribution of the Female Ages')"
      ]
     },
     "execution_count": 67,
     "metadata": {},
     "output_type": "execute_result"
    },
    {
     "data": {
      "image/png": "[encoded data removed]",
      "text/plain": [
       "<Figure size 432x288 with 1 Axes>"
      ]
     },
     "metadata": {},
     "output_type": "display_data"
    }
   ],
   "source": [
    "#Plot for female ages\n",
    "sns.histplot(Female_Ages, x= \"Age\", binwidth=4, hue=\"Employment\")\n",
    "plt.title(\"Plot Showing Distribution of the Female Ages\")"
   ]
  },
  {
   "cell_type": "code",
   "execution_count": 68,
   "id": "25b901a1",
   "metadata": {},
   "outputs": [],
   "source": [
    "male_ages=Male_Ages[\"Age\"].to_frame().reset_index()\n",
    "female_ages=Female_Ages[\"Age\"].to_frame().reset_index()"
   ]
  },
  {
   "cell_type": "markdown",
   "id": "f5819f1b",
   "metadata": {},
   "source": [
    "# Age Pyramid"
   ]
  },
  {
   "cell_type": "code",
   "execution_count": 69,
   "id": "e857e141",
   "metadata": {},
   "outputs": [],
   "source": [
    "def age_range_builder(census, gender, start_age, end_age):\n",
    "    \"\"\"Function that returns the number of people of a gender in an age range\"\"\"\n",
    "    return census[(census[\"Gender\"]==gender) & (census[\"Age\"] >= start_age)&(census[\"Age\"] <= end_age)].count()[\"Gender\"]"
   ]
  },
  {
   "cell_type": "code",
   "execution_count": 70,
   "id": "73c9413b",
   "metadata": {},
   "outputs": [
    {
     "data": {
      "text/html": [
       "<div>\n",
       "<style scoped>\n",
       "    .dataframe tbody tr th:only-of-type {\n",
       "        vertical-align: middle;\n",
       "    }\n",
       "\n",
       "    .dataframe tbody tr th {\n",
       "        vertical-align: top;\n",
       "    }\n",
       "\n",
       "    .dataframe thead th {\n",
       "        text-align: right;\n",
       "    }\n",
       "</style>\n",
       "<table border=\"1\" class=\"dataframe\">\n",
       "  <thead>\n",
       "    <tr style=\"text-align: right;\">\n",
       "      <th></th>\n",
       "      <th>Age</th>\n",
       "      <th>Male</th>\n",
       "      <th>Female</th>\n",
       "      <th>Count</th>\n",
       "    </tr>\n",
       "  </thead>\n",
       "  <tbody>\n",
       "    <tr>\n",
       "      <th>0</th>\n",
       "      <td>100+</td>\n",
       "      <td>-6</td>\n",
       "      <td>4</td>\n",
       "      <td>10</td>\n",
       "    </tr>\n",
       "    <tr>\n",
       "      <th>1</th>\n",
       "      <td>95-99</td>\n",
       "      <td>-4</td>\n",
       "      <td>6</td>\n",
       "      <td>10</td>\n",
       "    </tr>\n",
       "    <tr>\n",
       "      <th>2</th>\n",
       "      <td>90-94</td>\n",
       "      <td>-12</td>\n",
       "      <td>10</td>\n",
       "      <td>22</td>\n",
       "    </tr>\n",
       "    <tr>\n",
       "      <th>3</th>\n",
       "      <td>85-89</td>\n",
       "      <td>-42</td>\n",
       "      <td>31</td>\n",
       "      <td>73</td>\n",
       "    </tr>\n",
       "    <tr>\n",
       "      <th>4</th>\n",
       "      <td>80-84</td>\n",
       "      <td>-66</td>\n",
       "      <td>75</td>\n",
       "      <td>141</td>\n",
       "    </tr>\n",
       "    <tr>\n",
       "      <th>5</th>\n",
       "      <td>75-79</td>\n",
       "      <td>-97</td>\n",
       "      <td>98</td>\n",
       "      <td>195</td>\n",
       "    </tr>\n",
       "    <tr>\n",
       "      <th>6</th>\n",
       "      <td>70-74</td>\n",
       "      <td>-136</td>\n",
       "      <td>157</td>\n",
       "      <td>293</td>\n",
       "    </tr>\n",
       "    <tr>\n",
       "      <th>7</th>\n",
       "      <td>65-69</td>\n",
       "      <td>-147</td>\n",
       "      <td>180</td>\n",
       "      <td>327</td>\n",
       "    </tr>\n",
       "    <tr>\n",
       "      <th>8</th>\n",
       "      <td>60-64</td>\n",
       "      <td>-231</td>\n",
       "      <td>226</td>\n",
       "      <td>457</td>\n",
       "    </tr>\n",
       "    <tr>\n",
       "      <th>9</th>\n",
       "      <td>55-59</td>\n",
       "      <td>-306</td>\n",
       "      <td>332</td>\n",
       "      <td>638</td>\n",
       "    </tr>\n",
       "    <tr>\n",
       "      <th>10</th>\n",
       "      <td>50-54</td>\n",
       "      <td>-311</td>\n",
       "      <td>385</td>\n",
       "      <td>696</td>\n",
       "    </tr>\n",
       "    <tr>\n",
       "      <th>11</th>\n",
       "      <td>45-49</td>\n",
       "      <td>-378</td>\n",
       "      <td>435</td>\n",
       "      <td>813</td>\n",
       "    </tr>\n",
       "    <tr>\n",
       "      <th>12</th>\n",
       "      <td>40-44</td>\n",
       "      <td>-439</td>\n",
       "      <td>487</td>\n",
       "      <td>926</td>\n",
       "    </tr>\n",
       "    <tr>\n",
       "      <th>13</th>\n",
       "      <td>35-39</td>\n",
       "      <td>-407</td>\n",
       "      <td>529</td>\n",
       "      <td>936</td>\n",
       "    </tr>\n",
       "    <tr>\n",
       "      <th>14</th>\n",
       "      <td>30-34</td>\n",
       "      <td>-380</td>\n",
       "      <td>446</td>\n",
       "      <td>826</td>\n",
       "    </tr>\n",
       "    <tr>\n",
       "      <th>15</th>\n",
       "      <td>25-29</td>\n",
       "      <td>-343</td>\n",
       "      <td>401</td>\n",
       "      <td>744</td>\n",
       "    </tr>\n",
       "    <tr>\n",
       "      <th>16</th>\n",
       "      <td>20-24</td>\n",
       "      <td>-423</td>\n",
       "      <td>445</td>\n",
       "      <td>868</td>\n",
       "    </tr>\n",
       "    <tr>\n",
       "      <th>17</th>\n",
       "      <td>15-19</td>\n",
       "      <td>-448</td>\n",
       "      <td>452</td>\n",
       "      <td>900</td>\n",
       "    </tr>\n",
       "    <tr>\n",
       "      <th>18</th>\n",
       "      <td>10-14</td>\n",
       "      <td>-423</td>\n",
       "      <td>378</td>\n",
       "      <td>801</td>\n",
       "    </tr>\n",
       "    <tr>\n",
       "      <th>19</th>\n",
       "      <td>5-9</td>\n",
       "      <td>-398</td>\n",
       "      <td>380</td>\n",
       "      <td>778</td>\n",
       "    </tr>\n",
       "    <tr>\n",
       "      <th>20</th>\n",
       "      <td>0-4</td>\n",
       "      <td>-346</td>\n",
       "      <td>318</td>\n",
       "      <td>664</td>\n",
       "    </tr>\n",
       "  </tbody>\n",
       "</table>\n",
       "</div>"
      ],
      "text/plain": [
       "      Age  Male  Female  Count\n",
       "0    100+    -6       4     10\n",
       "1   95-99    -4       6     10\n",
       "2   90-94   -12      10     22\n",
       "3   85-89   -42      31     73\n",
       "4   80-84   -66      75    141\n",
       "5   75-79   -97      98    195\n",
       "6   70-74  -136     157    293\n",
       "7   65-69  -147     180    327\n",
       "8   60-64  -231     226    457\n",
       "9   55-59  -306     332    638\n",
       "10  50-54  -311     385    696\n",
       "11  45-49  -378     435    813\n",
       "12  40-44  -439     487    926\n",
       "13  35-39  -407     529    936\n",
       "14  30-34  -380     446    826\n",
       "15  25-29  -343     401    744\n",
       "16  20-24  -423     445    868\n",
       "17  15-19  -448     452    900\n",
       "18  10-14  -423     378    801\n",
       "19    5-9  -398     380    778\n",
       "20    0-4  -346     318    664"
      ]
     },
     "execution_count": 70,
     "metadata": {},
     "output_type": "execute_result"
    }
   ],
   "source": [
    "#https://www.statology.org/population-pyramid-python/\n",
    "Age_range= [\"100+\",\"95-99\",\"90-94\",\"85-89\",\"80-84\",\"75-79\",\"70-74\",\"65-69\",\"60-64\",\"55-59\",\"50-54\",\"45-49\",\"40-44\",\"35-39\",\"30-34\",\"25-29\",\"20-24\",\"15-19\",\"10-14\",\"5-9\",\"0-4\"]\n",
    "\n",
    "male = []\n",
    "female = []\n",
    "count = []\n",
    "\n",
    "for value in Age_range:\n",
    "    start=0\n",
    "    end=0\n",
    "    if \"-\" in value:\n",
    "        age=value.split(\"-\")\n",
    "        start = int(age[0])\n",
    "        end = int(age[1])\n",
    "    else:\n",
    "        start = 100\n",
    "        end = 200\n",
    "    \n",
    "    male.append(-1*age_range_builder(census, \"Male\", start, end))\n",
    "    female.append(age_range_builder(census, \"Female\", start, end))\n",
    "    count.append((age_range_builder(census, \"Male\", start, end)) + (age_range_builder(census, \"Female\", start, end)))    \n",
    "\n",
    "\n",
    "agegroup_table = pd.DataFrame({\"Age\":Age_range,\"Male\":male, \"Female\": female, \"Count\": count})\n",
    "\n",
    "AgeClass= [\"100+\",\"95-99\",\"90-94\",\"85-89\",\"80-84\",\"75-79\",\"70-74\",\"65-69\",\"60-64\",\"55-59\",\"50-54\",\"45-49\",\"40-44\",\"35-39\",\"30-34\",\"25-29\",\"20-24\",\"15-19\",\"10-14\",\"5-9\",\"0-4\"]\n",
    "\n",
    "agegroup_table"
   ]
  },
  {
   "cell_type": "code",
   "execution_count": 71,
   "id": "f82c27b6",
   "metadata": {
    "scrolled": true
   },
   "outputs": [
    {
     "data": {
      "image/png": "[encoded data removed]",
      "text/plain": [
       "<Figure size 432x288 with 1 Axes>"
      ]
     },
     "metadata": {},
     "output_type": "display_data"
    }
   ],
   "source": [
    "age_pyramid = sns.barplot(x='Male', y='Age', data=agegroup_table, order=AgeClass,\n",
    "color=('red'), label='Male',)\n",
    "\n",
    "age_pyramid = sns.barplot(x='Female', y='Age', data=agegroup_table, order=AgeClass,\n",
    "color=('purple'), label='Female')\n",
    "\n",
    "age_pyramid.legend()\n",
    "age_pyramid.set_xlabel(\"Population Count\")\n",
    "age_pyramid.set_ylabel(\"Age range\")\n",
    "plt.title('Age Pyramid')\n",
    "xticks = plt.gca().get_xticks().astype(int)\n",
    "plt.xticks(xticks, labels=np.abs(xticks));\n"
   ]
  },
  {
   "cell_type": "markdown",
   "id": "35041793",
   "metadata": {},
   "source": [
    "# Employment "
   ]
  },
  {
   "cell_type": "code",
   "execution_count": 72,
   "id": "bf932f22",
   "metadata": {},
   "outputs": [
    {
     "data": {
      "text/plain": [
       "Text(0.5, 1.0, 'A plot of Age against Employment')"
      ]
     },
     "execution_count": 72,
     "metadata": {},
     "output_type": "execute_result"
    },
    {
     "data": {
      "image/png": "[encoded data removed]",
      "text/plain": [
       "<Figure size 432x288 with 1 Axes>"
      ]
     },
     "metadata": {},
     "output_type": "display_data"
    }
   ],
   "source": [
    "#creating a boxplot of Age against employment conditioned by gender\n",
    "sns.boxplot(x=\"Employment\", y= \"Age\", data=census,hue = \"Gender\", palette=\"colorblind\")\n",
    "plt.title(\"A plot of Age against Employment\")"
   ]
  },
  {
   "cell_type": "code",
   "execution_count": 73,
   "id": "bce96b59",
   "metadata": {},
   "outputs": [
    {
     "data": {
      "text/plain": [
       "Text(0.5, 1.0, 'A plot of Employment Against Age')"
      ]
     },
     "execution_count": 73,
     "metadata": {},
     "output_type": "execute_result"
    },
    {
     "data": {
      "image/png": "[encoded data removed]",
      "text/plain": [
       "<Figure size 432x288 with 1 Axes>"
      ]
     },
     "metadata": {},
     "output_type": "display_data"
    }
   ],
   "source": [
    "#A scatter plot of Employment against Age conditioned by Gender\n",
    "sns.scatterplot(data=census, x='Age', y='Employment', hue=\"Gender\")\n",
    "plt.title(\"A plot of Employment Against Age\")"
   ]
  },
  {
   "cell_type": "code",
   "execution_count": 74,
   "id": "9d8b300e",
   "metadata": {},
   "outputs": [
    {
     "data": {
      "text/plain": [
       "Text(0.5, 1.0, 'An Employment Histogram')"
      ]
     },
     "execution_count": 74,
     "metadata": {},
     "output_type": "execute_result"
    },
    {
     "data": {
      "image/png": "[encoded data removed]",
      "text/plain": [
       "<Figure size 432x288 with 1 Axes>"
      ]
     },
     "metadata": {},
     "output_type": "display_data"
    }
   ],
   "source": [
    "#A histogram plot of employment\n",
    "sns.histplot(census, x=\"Employment\", binwidth=4)\n",
    "plt.title(\"An Employment Histogram\")"
   ]
  },
  {
   "cell_type": "markdown",
   "id": "21423c5f",
   "metadata": {},
   "source": [
    "# Divorce and Marriage"
   ]
  },
  {
   "cell_type": "code",
   "execution_count": 75,
   "id": "f2e75964",
   "metadata": {},
   "outputs": [
    {
     "data": {
      "text/plain": [
       "Text(0.5, 1.0, 'A plot of Marital Status Against Age')"
      ]
     },
     "execution_count": 75,
     "metadata": {},
     "output_type": "execute_result"
    },
    {
     "data": {
      "image/png": "[encoded data removed]",
      "text/plain": [
       "<Figure size 432x288 with 1 Axes>"
      ]
     },
     "metadata": {},
     "output_type": "display_data"
    }
   ],
   "source": [
    "#A boxplot of Marital Status Against age\n",
    "sns.boxplot(y=\"Marital Status\", x= \"Age\", data=census, width=0.5, palette=\"colorblind\")\n",
    "plt.title(\"A plot of Marital Status Against Age\")"
   ]
  },
  {
   "cell_type": "code",
   "execution_count": 76,
   "id": "a16ae34b",
   "metadata": {},
   "outputs": [
    {
     "name": "stdout",
     "output_type": "stream",
     "text": [
      "The crude divorce rate is 94 per thousand\n",
      "The crude marriage rate is 274 per thousand\n"
     ]
    }
   ],
   "source": [
    "#to calculate crude divorce rate and marriage rate\n",
    "divorcees = census[census[\"Marital Status\"]==\"Divorced\"].count()[\"Marital Status\"] #returns number of divorced people\n",
    "married = census[census[\"Marital Status\"]==\"Married\"].count()[\"Marital Status\"] #returns number of married people \n",
    "marriage_age= census[census[\"Age\"]>=16]\n",
    "total_population=len(census)\n",
    "\n",
    "crude_divorce_rate =(1046/total_population)*1000\n",
    "crude_marriage_rate=(3048/total_population)*1000\n",
    "\n",
    "\n",
    "print(\"The crude divorce rate is {} per thousand\".format(round(crude_divorce_rate)))\n",
    "print(\"The crude marriage rate is {} per thousand\".format(round(crude_marriage_rate)))"
   ]
  },
  {
   "cell_type": "code",
   "execution_count": 77,
   "id": "c1b47511",
   "metadata": {},
   "outputs": [
    {
     "data": {
      "text/plain": [
       "Text(0.5, 1.0, 'A Gender Histogram for Divorcees')"
      ]
     },
     "execution_count": 77,
     "metadata": {},
     "output_type": "execute_result"
    },
    {
     "data": {
      "image/png": "[encoded data removed]",
      "text/plain": [
       "<Figure size 432x288 with 1 Axes>"
      ]
     },
     "metadata": {},
     "output_type": "display_data"
    }
   ],
   "source": [
    "Divorcees=census[census[\"Marital Status\"]==\"Divorced\"]\n",
    "sns.histplot(Divorcees, x=\"Gender\", binwidth=2)\n",
    "plt.title(\"A Gender Histogram for Divorcees\")"
   ]
  },
  {
   "cell_type": "markdown",
   "id": "fc948df8",
   "metadata": {},
   "source": [
    "# Religion"
   ]
  },
  {
   "cell_type": "code",
   "execution_count": 78,
   "id": "2b14ef01",
   "metadata": {},
   "outputs": [
    {
     "data": {
      "text/plain": [
       "Text(0.5, 1.0, 'A plot of Age Against Religion for Gender')"
      ]
     },
     "execution_count": 78,
     "metadata": {},
     "output_type": "execute_result"
    },
    {
     "data": {
      "image/png": "[encoded data removed]",
      "text/plain": [
       "<Figure size 432x288 with 1 Axes>"
      ]
     },
     "metadata": {},
     "output_type": "display_data"
    }
   ],
   "source": [
    "#A violin plot  Age against Religion condioned by gender\n",
    "sns.violinplot(data=census, y= \"Age\", x= \"Religion\", hue=\"Gender\", split=True)\n",
    "plt.title(\"A plot of Age Against Religion for Gender\")"
   ]
  },
  {
   "cell_type": "code",
   "execution_count": 79,
   "id": "3bffd344",
   "metadata": {
    "scrolled": true
   },
   "outputs": [
    {
     "data": {
      "text/plain": [
       "Text(0.5, 1.0, 'A box plot of Religion Against Age')"
      ]
     },
     "execution_count": 79,
     "metadata": {},
     "output_type": "execute_result"
    },
    {
     "data": {
      "image/png": "[encoded data removed]",
      "text/plain": [
       "<Figure size 432x288 with 1 Axes>"
      ]
     },
     "metadata": {},
     "output_type": "display_data"
    }
   ],
   "source": [
    "#A boxplot of Religion Against Age\n",
    "sns.boxplot(data=census, y=\"Religion\", x =\"Age\")\n",
    "plt.title(\"A box plot of Religion Against Age\")"
   ]
  },
  {
   "cell_type": "code",
   "execution_count": 80,
   "id": "eb576cc4",
   "metadata": {},
   "outputs": [
    {
     "data": {
      "text/plain": [
       "Text(0.5, 1.0, 'A plot of Age against Religion')"
      ]
     },
     "execution_count": 80,
     "metadata": {},
     "output_type": "execute_result"
    },
    {
     "data": {
      "image/png": "[encoded data removed]",
      "text/plain": [
       "<Figure size 432x288 with 1 Axes>"
      ]
     },
     "metadata": {},
     "output_type": "display_data"
    }
   ],
   "source": [
    "# A whiskerplot of Age against Religion\n",
    "fig,axs=plt.figsize=(10,5)\n",
    "whiskerplot=sns.boxenplot(y=census['Age'], x=census['Religion'])\n",
    "whiskerplot.set(xlabel='Religion',ylabel='Age')\n",
    "plt.title(\"A plot of Age against Religion\")"
   ]
  },
  {
   "cell_type": "markdown",
   "id": "8c2031a9",
   "metadata": {},
   "source": [
    "# Infirmity rate"
   ]
  },
  {
   "cell_type": "code",
   "execution_count": 81,
   "id": "91362fb0",
   "metadata": {},
   "outputs": [
    {
     "name": "stdout",
     "output_type": "stream",
     "text": [
      "The percentage of old people with infirmity in the town is 0.1%\n",
      "The percentage of old people among those with infirmity is 21.3%\n"
     ]
    }
   ],
   "source": [
    "#To get the percentage of infirm people above 55 years in the population\n",
    "infirmity_old_age=census[(census[\"Infirmity\"]!=\"None\") & (census[\"Age\"]>55)].count()[\"Infirmity\"]\n",
    "infirmity_old_age_rate= (infirmity_old_age*100)/len(census)\n",
    "\n",
    "#To get the percentage of infirm people above 55 years among those with infirmity in the population\n",
    "Total_infirmity=census[census[\"Infirmity\"]!=\"None\"].count()[\"Infirmity\"]\n",
    "infirmity_old_age_percentage =(infirmity_old_age*100)/Total_infirmity\n",
    "\n",
    "print(\"The percentage of old people with infirmity in the town is {}%\".format(round(infirmity_old_age_rate,1)))\n",
    "print(\"The percentage of old people among those with infirmity is {}%\".format(round(infirmity_old_age_percentage,1)))"
   ]
  },
  {
   "cell_type": "code",
   "execution_count": 82,
   "id": "2aca1915",
   "metadata": {},
   "outputs": [
    {
     "data": {
      "text/plain": [
       "Text(0.5, 1.0, 'Plot of Infirmity Against Age')"
      ]
     },
     "execution_count": 82,
     "metadata": {},
     "output_type": "execute_result"
    },
    {
     "data": {
      "image/png": "[encoded data removed]",
      "text/plain": [
       "<Figure size 432x288 with 1 Axes>"
      ]
     },
     "metadata": {},
     "output_type": "display_data"
    }
   ],
   "source": [
    "sns.scatterplot(data=census, x='Age', y='Infirmity', hue=\"Gender\")\n",
    "plt.title(\"Plot of Infirmity Against Age\") #title"
   ]
  },
  {
   "cell_type": "markdown",
   "id": "eb1daa3c",
   "metadata": {},
   "source": [
    "# Fertility rate\n",
    "\n",
    "For fertility rate, the General fertility rate was used to estimate the fertility rate for the town. This is the total number of live births per 1000 women of child bearing age. \n",
    "\n",
    "The age specific fertility rates (ASFR) and Total fertility rates were also calculated below.\n",
    "\n",
    "For this study, the age of women of child bearin age was set at 15-44 according to User guide to birth statistics(ONS 2021)\n",
    "\n"
   ]
  },
  {
   "cell_type": "markdown",
   "id": "b40f4334",
   "metadata": {},
   "source": [
    "Calculating General fertility rate:"
   ]
  },
  {
   "cell_type": "code",
   "execution_count": 83,
   "id": "8b8ac829",
   "metadata": {},
   "outputs": [
    {
     "name": "stdout",
     "output_type": "stream",
     "text": [
      "The General Fertility rate of the town is 40 per 1000 women\n",
      "The General Fertility rate of the town was 55 per 1000 women 4years ago\n"
     ]
    }
   ],
   "source": [
    "#To get the total number of children for particular ages\n",
    "total_live_births0=census[census[\"Age\"]==0].count()[\"Age\"]\n",
    "total_live_births4=census[census[\"Age\"]==4].count()[\"Age\"]\n",
    "total_live_births8=census[census[\"Age\"]==8].count()[\"Age\"]\n",
    "total_live_births12=census[census[\"Age\"]==12].count()[\"Age\"]\n",
    "total_live_births16=census[census[\"Age\"]==16].count()[\"Age\"]\n",
    "total_live_births20=census[census[\"Age\"]==20].count()[\"Age\"]\n",
    "\n",
    "#To get the total number of women of child bearing age for present year and 4 years ago\n",
    "total_women_child_bearing_age= census[(census[\"Gender\"]==\"Female\") & (census[\"Age\"]>=15) & (census[\"Age\"]<=44)].count()[\"Gender\"]\n",
    "total_women_child_bearing_age_4yrs_ago=census[(census[\"Gender\"]==\"Female\") & (census[\"Age\"]>=19) & (census[\"Age\"]<=48)].count()[\"Gender\"]\n",
    "\n",
    "#Calculating the general fertility rate for present year and 4 years ago\n",
    "GFR = (total_live_births0* 1000)/total_women_child_bearing_age\n",
    "GFR4yrs = (total_live_births4*1000)/total_women_child_bearing_age_4yrs_ago\n",
    "\n",
    "\n",
    "print(\"The General Fertility rate of the town is {} per 1000 women\".format((round(GFR))))\n",
    "print (\"The General Fertility rate of the town was {} per 1000 women 4years ago\".format(round(GFR4yrs)))"
   ]
  },
  {
   "cell_type": "markdown",
   "id": "88505555",
   "metadata": {},
   "source": [
    "*Calculating ASFR and TFR*"
   ]
  },
  {
   "cell_type": "code",
   "execution_count": 84,
   "id": "0150a995",
   "metadata": {},
   "outputs": [
    {
     "name": "stdout",
     "output_type": "stream",
     "text": [
      "ASFR 15-19 per 1000 is 245.57522123893804\n",
      "ASFR 20-24 per 1000 is 341.5730337078652\n",
      "ASFR 25-29 per 1000 is 401.4962593516209\n",
      "ASFR 30-34 per 1000 is 401.3452914798206\n",
      "ASFR 35-39 per 1000 is 328.92249527410206\n",
      "ASFR 40-44 per 1000 is 383.9835728952772\n",
      "The TFR per 1000 is 2102.895873947624\n"
     ]
    }
   ],
   "source": [
    "#to get number of child bearing women in each specific age group\n",
    "age_btw1519 = (census['Age'].between(15,19)) & (census['Gender'] == 'Female')\n",
    "age_btw2024 = (census['Age'].between(20,24)) & (census['Gender'] == 'Female')\n",
    "age_btw2529 = (census['Age'].between(25,29)) & (census['Gender'] == 'Female')\n",
    "age_btw3034 = (census['Age'].between(30,34)) & (census['Gender'] == 'Female')\n",
    "age_btw3539 = (census['Age'].between(35,39)) & (census['Gender'] == 'Female')\n",
    "age_btw4044 = (census['Age'].between(40,44)) & (census['Gender'] == 'Female')\n",
    "\n",
    "\n",
    "#calculatin the age specific fertility rate per thousand\n",
    "asfr1519 = total_live_births0/len(census[age_btw1519])*1000\n",
    "asfr2024 = total_live_births4/len(census[age_btw2024])*1000\n",
    "asfr2529 = total_live_births8/len(census[age_btw2529])*1000\n",
    "asfr3034 = total_live_births12/len(census[age_btw3034])*1000\n",
    "asfr3539 = total_live_births16/len(census[age_btw3539])*1000\n",
    "asfr4044 = total_live_births20/len(census[age_btw4044])*1000\n",
    "\n",
    "#Total fertility rate is the sum of all the age specific fertility rate\n",
    "TFR= (asfr1519+asfr2024+asfr2529+asfr3034+asfr3539+asfr4044)\n",
    "\n",
    "print(\"ASFR 15-19 per 1000 is {}\".format(asfr1519))\n",
    "print(\"ASFR 20-24 per 1000 is {}\".format(asfr2024))\n",
    "print(\"ASFR 25-29 per 1000 is {}\".format(asfr2529))\n",
    "print(\"ASFR 30-34 per 1000 is {}\".format(asfr3034))\n",
    "print(\"ASFR 35-39 per 1000 is {}\".format(asfr3539))\n",
    "print(\"ASFR 40-44 per 1000 is {}\".format(asfr4044))\n",
    "\n",
    "print(\"The TFR per 1000 is {}\".format(TFR))"
   ]
  },
  {
   "cell_type": "markdown",
   "id": "09673872",
   "metadata": {},
   "source": [
    "# Crude Birth rate\n",
    "This is calculated by dividing the total number of live births in a year by the population per 1000. "
   ]
  },
  {
   "cell_type": "code",
   "execution_count": 85,
   "id": "d79c329d",
   "metadata": {},
   "outputs": [
    {
     "name": "stdout",
     "output_type": "stream",
     "text": [
      "The crude birth rate is 10 births per thousand\n",
      "The crude birth rate 5 years ago was 15 births per thousand\n",
      "The crude birth rate has dropped by 5 per thousand from 5 years ago\n"
     ]
    }
   ],
   "source": [
    "#to get the total number of children in the ages between 0-4 years\n",
    "total_new_borns= census[census[\"Age\"]==0].count()[\"Age\"]\n",
    "total_4yr_olds= census[census[\"Age\"]==4].count()[\"Age\"] \n",
    "total_3yr_olds= census[census[\"Age\"]==3].count()[\"Age\"] \n",
    "total_2yr_olds= census[census[\"Age\"]==2].count()[\"Age\"]\n",
    "total_1yr_olds= census[census[\"Age\"]==1].count()[\"Age\"] \n",
    "\n",
    "#TO get the population of the town\n",
    "total_population=census.count()[\"First Name\"]\n",
    "\n",
    "#Adjusting the population to what it would be 5yrs ago\n",
    "total_children_born_in_5yrs=total_new_borns+total_1yr_olds+total_2yr_olds+total_3yr_olds+total_4yr_olds\n",
    "total_population_5yrs_ago= total_population-total_children_born_in_5yrs\n",
    "\n",
    "#Calculating crude birth rate \n",
    "crude_birth_rate= (total_new_borns/total_population)*1000\n",
    "crude_birthrate_5yrsago= (total_4yr_olds/total_population_5yrs_ago)*1000\n",
    "CBR_change= crude_birth_rate-crude_birthrate_5yrsago\n",
    "\n",
    "\n",
    "\n",
    "print (\"The crude birth rate is {} births per thousand\".format(round(crude_birth_rate)))\n",
    "print (\"The crude birth rate 5 years ago was {} births per thousand\".format(round(crude_birthrate_5yrsago)))\n",
    "print (\"The crude birth rate has dropped by {} per thousand from 5 years ago\".format(round(CBR_change*-1)))"
   ]
  },
  {
   "cell_type": "markdown",
   "id": "8bbacbf0",
   "metadata": {},
   "source": [
    "# Crude Death Rate\n",
    "This was calculated by dividing the total number of deaths in a year by the population per 1000"
   ]
  },
  {
   "cell_type": "code",
   "execution_count": 86,
   "id": "ee609a34",
   "metadata": {},
   "outputs": [
    {
     "name": "stdout",
     "output_type": "stream",
     "text": [
      "The crude death rate is 6 deaths per thousand\n"
     ]
    }
   ],
   "source": [
    "#To get the number of people in specific age ranges from 55 years old\n",
    "age_56_to_60 = census[(census[\"Age\"]>=56) & (census[\"Age\"]<=60)].count()[\"Age\"]\n",
    "age_61_to_65 = census[(census[\"Age\"]>=61) & (census[\"Age\"]<=65)].count()[\"Age\"]\n",
    "age_66_to_70 = census[(census[\"Age\"]>=66) & (census[\"Age\"]<=70)].count()[\"Age\"]\n",
    "age_71_to_75 = census[(census[\"Age\"]>=71) & (census[\"Age\"]<=75)].count()[\"Age\"]\n",
    "age_76_to_80 = census[(census[\"Age\"]>=76) & (census[\"Age\"]<=80)].count()[\"Age\"]\n",
    "age_81_to_85 = census[(census[\"Age\"]>=81) & (census[\"Age\"]<=85)].count()[\"Age\"]\n",
    "age_86_to_90 = census[(census[\"Age\"]>=86) & (census[\"Age\"]<=90)].count()[\"Age\"]\n",
    "age_91_to_95 = census[(census[\"Age\"]>=91) & (census[\"Age\"]<=95)].count()[\"Age\"]\n",
    "age_96_to_100 = census[(census[\"Age\"]>=96) & (census[\"Age\"]<=100)].count()[\"Age\"]\n",
    "age_above_100 = census[census[\"Age\"]>100].count()[\"Age\"]\n",
    "\n",
    "#Dividing the number of people in age ranges by 5 to get the number of people per annum in the specific age range\n",
    "age_56_to_60_per_annum=age_56_to_60/5\n",
    "age_61_to_65_per_annum =age_61_to_65/5\n",
    "age_66_to_70_per_annum=age_66_to_70/5\n",
    "age_71_to_75_per_annum=age_71_to_75/5\n",
    "age_76_to_80_per_annum=age_76_to_80/5\n",
    "age_81_to_85_per_annum=age_81_to_85/5\n",
    "age_86_to_90_per_annum=age_86_to_90/5\n",
    "age_91_to_95_per_annum=age_91_to_95/5\n",
    "age_96_to_100_per_annum=age_96_to_100/5\n",
    "age_above_100_per_annum=age_above_100/8\n",
    "\n",
    "#to get the difference in number of people from from age range to another as death rate\n",
    "cdr_56_65= ((age_56_to_60_per_annum-age_61_to_65_per_annum)/total_population)*1000\n",
    "cdr_66_75= ((age_66_to_70_per_annum-age_71_to_75_per_annum)/total_population)*1000\n",
    "cdr_76_85= ((age_76_to_80_per_annum-age_81_to_85_per_annum)/total_population)*1000\n",
    "cdr_86_95= ((age_86_to_90_per_annum-age_91_to_95_per_annum)/total_population)*1000\n",
    "cdr_96_abv100= ((age_96_to_100_per_annum-age_above_100_per_annum)/total_population)*1000\n",
    "\n",
    "crude_death_rate= cdr_56_65+cdr_66_75+cdr_76_85+cdr_86_95+cdr_96_abv100\n",
    "\n",
    "print(\"The crude death rate is {} deaths per thousand\".format(round(crude_death_rate)))"
   ]
  },
  {
   "cell_type": "markdown",
   "id": "1f9da06b",
   "metadata": {},
   "source": [
    "# Crude Growth rate"
   ]
  },
  {
   "cell_type": "code",
   "execution_count": 87,
   "id": "95ff9799",
   "metadata": {},
   "outputs": [
    {
     "name": "stdout",
     "output_type": "stream",
     "text": [
      "The Crude growth rate is 4\n",
      "The Crude growth rate is 0.4 percent\n"
     ]
    }
   ],
   "source": [
    "CGR= round(crude_birth_rate) - round(crude_death_rate)\n",
    "print(\"The Crude growth rate is {}\".format(CGR))\n",
    "print(\"The Crude growth rate is {} percent\".format(CGR/10))"
   ]
  },
  {
   "cell_type": "markdown",
   "id": "8ef7815d",
   "metadata": {},
   "source": [
    "# Migration\n",
    "For this project, the rate of Immigration was taken as those lodging in the town while emigrants was taken as difference between male and female divorcees."
   ]
  },
  {
   "cell_type": "code",
   "execution_count": 88,
   "id": "43239239",
   "metadata": {},
   "outputs": [
    {
     "name": "stdout",
     "output_type": "stream",
     "text": [
      "The total number of immigrants is 34 per thousand\n",
      "The total number of Emmigrants is 18 per thousand\n"
     ]
    }
   ],
   "source": [
    "#Estimating the number of lodgers who are not students\n",
    "census[census[\"Occupation\"]==\"University Student\"].count()[\"Occupation\"]\n",
    "immigrants=census[(census[\"Relationship to Head of House\"]==\"Lodger\") & (census[\"Occupation\"]!=\"University Student\") & (census[\"Occupation\"]!=\"PhD Student\")].count()[\"Occupation\"]\n",
    "\n",
    "#Getting the number of  male and female divorcees\n",
    "no_of_male_divorced=census[(census[\"Marital Status\"]==\"Divorced\") & (census[\"Gender\"]==\"Male\")].count()[\"Gender\"]\n",
    "no_of_female_divorced=census[(census[\"Marital Status\"]==\"Divorced\") & (census[\"Gender\"]==\"Female\")].count()[\"Gender\"]\n",
    "\n",
    "#to get the immigration and emigration rate\n",
    "immigration_rate = (immigrants/total_population)*1000\n",
    "emigration_rate=((no_of_female_divorced-no_of_male_divorced)/total_population)*1000\n",
    "\n",
    "print(\"The total number of immigrants is {} per thousand\".format(round(immigration_rate)))\n",
    "print(\"The total number of Emmigrants is {} per thousand\".format(round(emigration_rate)))"
   ]
  },
  {
   "cell_type": "markdown",
   "id": "e74db91b",
   "metadata": {},
   "source": [
    "# Population Growth"
   ]
  },
  {
   "cell_type": "code",
   "execution_count": 89,
   "id": "ac6fb636",
   "metadata": {},
   "outputs": [
    {
     "name": "stdout",
     "output_type": "stream",
     "text": [
      "The population growth is by 1.9486418420579241\n"
     ]
    }
   ],
   "source": [
    "print(\"The population growth is by {}\".format(((crude_birth_rate+immigration_rate)-(crude_death_rate+emigration_rate))/10))"
   ]
  },
  {
   "cell_type": "markdown",
   "id": "30b6db30",
   "metadata": {},
   "source": [
    "# Occupancy"
   ]
  },
  {
   "cell_type": "code",
   "execution_count": 90,
   "id": "c57cbf67",
   "metadata": {},
   "outputs": [
    {
     "name": "stdout",
     "output_type": "stream",
     "text": [
      "3747\n",
      "  House Number            Street  Occupancy Count\n",
      "0            1       Acorn Delve                5\n",
      "1            1    Albanspay Road                1\n",
      "2            1  Anglia Mountains                1\n",
      "3            1   Armaghfast Lane                2\n",
      "4            1    Beaver Factory                8\n"
     ]
    }
   ],
   "source": [
    "#groups the data by house number and street and assigns to new column number of same house number in a street\n",
    "houseoccupancy = census.groupby(['House Number', 'Street']).size().reset_index(name='Occupancy Count')\n",
    "print(len(houseoccupancy))\n",
    "print(houseoccupancy.head())"
   ]
  },
  {
   "cell_type": "code",
   "execution_count": 91,
   "id": "c25add06",
   "metadata": {},
   "outputs": [
    {
     "data": {
      "text/html": [
       "<div>\n",
       "<style scoped>\n",
       "    .dataframe tbody tr th:only-of-type {\n",
       "        vertical-align: middle;\n",
       "    }\n",
       "\n",
       "    .dataframe tbody tr th {\n",
       "        vertical-align: top;\n",
       "    }\n",
       "\n",
       "    .dataframe thead th {\n",
       "        text-align: right;\n",
       "    }\n",
       "</style>\n",
       "<table border=\"1\" class=\"dataframe\">\n",
       "  <thead>\n",
       "    <tr style=\"text-align: right;\">\n",
       "      <th></th>\n",
       "      <th>House Number</th>\n",
       "      <th>Street</th>\n",
       "      <th>First Name</th>\n",
       "      <th>Surname</th>\n",
       "      <th>Age</th>\n",
       "      <th>Relationship to Head of House</th>\n",
       "      <th>Marital Status</th>\n",
       "      <th>Gender</th>\n",
       "      <th>Occupation</th>\n",
       "      <th>Infirmity</th>\n",
       "      <th>Religion</th>\n",
       "      <th>AgeGroup</th>\n",
       "      <th>Employment</th>\n",
       "      <th>Occupancy</th>\n",
       "    </tr>\n",
       "  </thead>\n",
       "  <tbody>\n",
       "    <tr>\n",
       "      <th>0</th>\n",
       "      <td>1</td>\n",
       "      <td>Renaissance Lane</td>\n",
       "      <td>Grace</td>\n",
       "      <td>Johnston</td>\n",
       "      <td>29</td>\n",
       "      <td>Head</td>\n",
       "      <td>Single</td>\n",
       "      <td>Female</td>\n",
       "      <td>Visual merchandiser</td>\n",
       "      <td>None</td>\n",
       "      <td>Methodist</td>\n",
       "      <td>25-29</td>\n",
       "      <td>Employed</td>\n",
       "      <td>4</td>\n",
       "    </tr>\n",
       "    <tr>\n",
       "      <th>1</th>\n",
       "      <td>1</td>\n",
       "      <td>Renaissance Lane</td>\n",
       "      <td>Brett</td>\n",
       "      <td>Sheppard</td>\n",
       "      <td>31</td>\n",
       "      <td>Partner</td>\n",
       "      <td>Single</td>\n",
       "      <td>Male</td>\n",
       "      <td>Biomedical engineer</td>\n",
       "      <td>None</td>\n",
       "      <td>Methodist</td>\n",
       "      <td>30-34</td>\n",
       "      <td>Employed</td>\n",
       "      <td>4</td>\n",
       "    </tr>\n",
       "    <tr>\n",
       "      <th>2</th>\n",
       "      <td>1</td>\n",
       "      <td>Renaissance Lane</td>\n",
       "      <td>Mark</td>\n",
       "      <td>Johnston</td>\n",
       "      <td>6</td>\n",
       "      <td>Son</td>\n",
       "      <td>Never Married</td>\n",
       "      <td>Male</td>\n",
       "      <td>Student</td>\n",
       "      <td>None</td>\n",
       "      <td>None</td>\n",
       "      <td>5-9</td>\n",
       "      <td>Student(Child)</td>\n",
       "      <td>4</td>\n",
       "    </tr>\n",
       "    <tr>\n",
       "      <th>3</th>\n",
       "      <td>1</td>\n",
       "      <td>Renaissance Lane</td>\n",
       "      <td>Teresa</td>\n",
       "      <td>Johnston</td>\n",
       "      <td>3</td>\n",
       "      <td>Daughter</td>\n",
       "      <td>Never Married</td>\n",
       "      <td>Female</td>\n",
       "      <td>Child</td>\n",
       "      <td>None</td>\n",
       "      <td>None</td>\n",
       "      <td>0-4</td>\n",
       "      <td>Student(Child)</td>\n",
       "      <td>4</td>\n",
       "    </tr>\n",
       "    <tr>\n",
       "      <th>4</th>\n",
       "      <td>2</td>\n",
       "      <td>Renaissance Lane</td>\n",
       "      <td>Helen</td>\n",
       "      <td>Smith</td>\n",
       "      <td>81</td>\n",
       "      <td>Head</td>\n",
       "      <td>Married</td>\n",
       "      <td>Female</td>\n",
       "      <td>Retired Primary school teacher</td>\n",
       "      <td>None</td>\n",
       "      <td>Christian</td>\n",
       "      <td>80-84</td>\n",
       "      <td>Retired</td>\n",
       "      <td>2</td>\n",
       "    </tr>\n",
       "    <tr>\n",
       "      <th>...</th>\n",
       "      <td>...</td>\n",
       "      <td>...</td>\n",
       "      <td>...</td>\n",
       "      <td>...</td>\n",
       "      <td>...</td>\n",
       "      <td>...</td>\n",
       "      <td>...</td>\n",
       "      <td>...</td>\n",
       "      <td>...</td>\n",
       "      <td>...</td>\n",
       "      <td>...</td>\n",
       "      <td>...</td>\n",
       "      <td>...</td>\n",
       "      <td>...</td>\n",
       "    </tr>\n",
       "    <tr>\n",
       "      <th>11113</th>\n",
       "      <td>1</td>\n",
       "      <td>Racoon Hall</td>\n",
       "      <td>Tracey</td>\n",
       "      <td>Gregory</td>\n",
       "      <td>12</td>\n",
       "      <td>Granddaughter</td>\n",
       "      <td>Never Married</td>\n",
       "      <td>Female</td>\n",
       "      <td>Student</td>\n",
       "      <td>None</td>\n",
       "      <td>None</td>\n",
       "      <td>10-14</td>\n",
       "      <td>Student(Child)</td>\n",
       "      <td>7</td>\n",
       "    </tr>\n",
       "    <tr>\n",
       "      <th>11114</th>\n",
       "      <td>1</td>\n",
       "      <td>Racoon Hall</td>\n",
       "      <td>Nigel</td>\n",
       "      <td>Macdonald</td>\n",
       "      <td>8</td>\n",
       "      <td>Grandson</td>\n",
       "      <td>Never Married</td>\n",
       "      <td>Male</td>\n",
       "      <td>Student</td>\n",
       "      <td>None</td>\n",
       "      <td>None</td>\n",
       "      <td>5-9</td>\n",
       "      <td>Student(Child)</td>\n",
       "      <td>7</td>\n",
       "    </tr>\n",
       "    <tr>\n",
       "      <th>11115</th>\n",
       "      <td>1</td>\n",
       "      <td>Racoon Hall</td>\n",
       "      <td>Natalie</td>\n",
       "      <td>Francis</td>\n",
       "      <td>1</td>\n",
       "      <td>Granddaughter</td>\n",
       "      <td>Never Married</td>\n",
       "      <td>Female</td>\n",
       "      <td>Child</td>\n",
       "      <td>None</td>\n",
       "      <td>None</td>\n",
       "      <td>0-4</td>\n",
       "      <td>Student(Child)</td>\n",
       "      <td>7</td>\n",
       "    </tr>\n",
       "    <tr>\n",
       "      <th>11116</th>\n",
       "      <td>1</td>\n",
       "      <td>Racoon Hall</td>\n",
       "      <td>Roger</td>\n",
       "      <td>Leach</td>\n",
       "      <td>54</td>\n",
       "      <td>Lodger</td>\n",
       "      <td>Single</td>\n",
       "      <td>Male</td>\n",
       "      <td>Commercial horticulturist</td>\n",
       "      <td>None</td>\n",
       "      <td>Methodist</td>\n",
       "      <td>50-54</td>\n",
       "      <td>Employed</td>\n",
       "      <td>7</td>\n",
       "    </tr>\n",
       "    <tr>\n",
       "      <th>11117</th>\n",
       "      <td>1</td>\n",
       "      <td>Racoon Hall</td>\n",
       "      <td>Sally</td>\n",
       "      <td>Fletcher</td>\n",
       "      <td>56</td>\n",
       "      <td>Lodger</td>\n",
       "      <td>Single</td>\n",
       "      <td>Female</td>\n",
       "      <td>Public relations account executive</td>\n",
       "      <td>None</td>\n",
       "      <td>Christian</td>\n",
       "      <td>55-59</td>\n",
       "      <td>Employed</td>\n",
       "      <td>7</td>\n",
       "    </tr>\n",
       "  </tbody>\n",
       "</table>\n",
       "<p>11118 rows × 14 columns</p>\n",
       "</div>"
      ],
      "text/plain": [
       "      House Number            Street First Name    Surname  Age  \\\n",
       "0                1  Renaissance Lane      Grace   Johnston   29   \n",
       "1                1  Renaissance Lane      Brett   Sheppard   31   \n",
       "2                1  Renaissance Lane       Mark   Johnston    6   \n",
       "3                1  Renaissance Lane     Teresa   Johnston    3   \n",
       "4                2  Renaissance Lane      Helen      Smith   81   \n",
       "...            ...               ...        ...        ...  ...   \n",
       "11113            1       Racoon Hall     Tracey    Gregory   12   \n",
       "11114            1       Racoon Hall      Nigel  Macdonald    8   \n",
       "11115            1       Racoon Hall    Natalie    Francis    1   \n",
       "11116            1       Racoon Hall      Roger      Leach   54   \n",
       "11117            1       Racoon Hall      Sally   Fletcher   56   \n",
       "\n",
       "      Relationship to Head of House Marital Status  Gender  \\\n",
       "0                              Head         Single  Female   \n",
       "1                           Partner         Single    Male   \n",
       "2                               Son  Never Married    Male   \n",
       "3                          Daughter  Never Married  Female   \n",
       "4                              Head        Married  Female   \n",
       "...                             ...            ...     ...   \n",
       "11113                 Granddaughter  Never Married  Female   \n",
       "11114                      Grandson  Never Married    Male   \n",
       "11115                 Granddaughter  Never Married  Female   \n",
       "11116                        Lodger         Single    Male   \n",
       "11117                        Lodger         Single  Female   \n",
       "\n",
       "                               Occupation Infirmity   Religion AgeGroup  \\\n",
       "0                     Visual merchandiser      None  Methodist    25-29   \n",
       "1                     Biomedical engineer      None  Methodist    30-34   \n",
       "2                                 Student      None       None      5-9   \n",
       "3                                   Child      None       None      0-4   \n",
       "4          Retired Primary school teacher      None  Christian    80-84   \n",
       "...                                   ...       ...        ...      ...   \n",
       "11113                             Student      None       None    10-14   \n",
       "11114                             Student      None       None      5-9   \n",
       "11115                               Child      None       None      0-4   \n",
       "11116           Commercial horticulturist      None  Methodist    50-54   \n",
       "11117  Public relations account executive      None  Christian    55-59   \n",
       "\n",
       "           Employment Occupancy  \n",
       "0            Employed         4  \n",
       "1            Employed         4  \n",
       "2      Student(Child)         4  \n",
       "3      Student(Child)         4  \n",
       "4             Retired         2  \n",
       "...               ...       ...  \n",
       "11113  Student(Child)         7  \n",
       "11114  Student(Child)         7  \n",
       "11115  Student(Child)         7  \n",
       "11116        Employed         7  \n",
       "11117        Employed         7  \n",
       "\n",
       "[11118 rows x 14 columns]"
      ]
     },
     "execution_count": 91,
     "metadata": {},
     "output_type": "execute_result"
    }
   ],
   "source": [
    "#to create a column stating number of occupants in a house\n",
    "group_census = census.groupby(['House Number', 'Street']).groups\n",
    "df_census = census.copy()\n",
    "df_census['Occupancy'] = ''\n",
    "for k, v in group_census.items():\n",
    "    df_census.loc[v,'Occupancy'] = len(v)\n",
    "df_census"
   ]
  },
  {
   "cell_type": "code",
   "execution_count": 92,
   "id": "4a12b7c6",
   "metadata": {},
   "outputs": [
    {
     "data": {
      "text/html": [
       "<div>\n",
       "<style scoped>\n",
       "    .dataframe tbody tr th:only-of-type {\n",
       "        vertical-align: middle;\n",
       "    }\n",
       "\n",
       "    .dataframe tbody tr th {\n",
       "        vertical-align: top;\n",
       "    }\n",
       "\n",
       "    .dataframe thead th {\n",
       "        text-align: right;\n",
       "    }\n",
       "</style>\n",
       "<table border=\"1\" class=\"dataframe\">\n",
       "  <thead>\n",
       "    <tr style=\"text-align: right;\">\n",
       "      <th></th>\n",
       "      <th>Street</th>\n",
       "      <th>Mode</th>\n",
       "    </tr>\n",
       "  </thead>\n",
       "  <tbody>\n",
       "    <tr>\n",
       "      <th>0</th>\n",
       "      <td>Renaissance Lane</td>\n",
       "      <td>3</td>\n",
       "    </tr>\n",
       "    <tr>\n",
       "      <th>1</th>\n",
       "      <td>Owen Inlet</td>\n",
       "      <td>2</td>\n",
       "    </tr>\n",
       "    <tr>\n",
       "      <th>2</th>\n",
       "      <td>Price Prairie</td>\n",
       "      <td>5</td>\n",
       "    </tr>\n",
       "    <tr>\n",
       "      <th>3</th>\n",
       "      <td>Winchester Road</td>\n",
       "      <td>5</td>\n",
       "    </tr>\n",
       "    <tr>\n",
       "      <th>4</th>\n",
       "      <td>Hope Trace</td>\n",
       "      <td>1</td>\n",
       "    </tr>\n",
       "  </tbody>\n",
       "</table>\n",
       "</div>"
      ],
      "text/plain": [
       "             Street  Mode\n",
       "0  Renaissance Lane     3\n",
       "1        Owen Inlet     2\n",
       "2     Price Prairie     5\n",
       "3   Winchester Road     5\n",
       "4        Hope Trace     1"
      ]
     },
     "execution_count": 92,
     "metadata": {},
     "output_type": "execute_result"
    }
   ],
   "source": [
    "#to determine the mode occupancy per street\n",
    "\n",
    "streets = df_census['Street'].unique()\n",
    "street_mode = []\n",
    "for street in streets:\n",
    "    street_mode.append(stat.mode(list(df_census[df_census['Street']==street]['Occupancy'])))\n",
    "ndf_census = pd.DataFrame({\n",
    "    'Street': streets,\n",
    "    'Mode': street_mode\n",
    "})\n",
    "ndf_census.head()"
   ]
  },
  {
   "cell_type": "code",
   "execution_count": null,
   "id": "80a199b8",
   "metadata": {},
   "outputs": [],
   "source": []
  }
 ],
 "metadata": {
  "kernelspec": {
   "display_name": "Python 3 (ipykernel)",
   "language": "python",
   "name": "python3"
  },
  "language_info": {
   "codemirror_mode": {
    "name": "ipython",
    "version": 3
   },
   "file_extension": ".py",
   "mimetype": "text/x-python",
   "name": "python",
   "nbconvert_exporter": "python",
   "pygments_lexer": "ipython3",
   "version": "3.9.12"
  }
 },
 "nbformat": 4,
 "nbformat_minor": 5
}
